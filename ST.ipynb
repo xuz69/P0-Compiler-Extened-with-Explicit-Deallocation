{
 "cells": [
  {
   "cell_type": "markdown",
   "metadata": {},
   "source": [
    "What is new?\n",
    "\n",
    "- ST is extended with a class `Pointer`.\n"
   ]
  },
  {
   "cell_type": "code",
   "execution_count": null,
   "metadata": {},
   "outputs": [],
   "source": [
    "import nbimporter, textwrap\n",
    "nbimporter.options[\"only_defs\"] = False\n",
    "from SC import mark\n",
    "\n",
    "def indent(n):\n",
    "    return textwrap.indent(str(n), '  ')"
   ]
  },
  {
   "cell_type": "code",
   "execution_count": 3,
   "metadata": {},
   "outputs": [],
   "source": [
    "class Var:\n",
    "    def __init__(self, tp):\n",
    "        self.tp = tp #tp refers to type\n",
    "    def __str__(self):\n",
    "        return 'Var(name = ' + str(getattr(self, 'name', '')) + ', lev = ' + \\\n",
    "               str(getattr(self, 'lev', '')) + ', tp = ' + str(self.tp) + ')'\n",
    "\n",
    "class Ref:\n",
    "    def __init__(self, tp):\n",
    "        self.tp = tp\n",
    "    def __str__(self):\n",
    "        return 'Ref(name = ' + str(getattr(self, 'name', '')) + ', lev = ' + \\\n",
    "               str(getattr(self, 'lev', '')) + ', tp = ' + str(self.tp) + ')'\n",
    "\n",
    "class Const:\n",
    "    def __init__(self, tp, val):\n",
    "        self.tp, self.val = tp, val\n",
    "    def __str__(self):\n",
    "        return 'Const(name = ' + str(getattr(self, 'name', '')) + ', tp = ' + \\\n",
    "               str(self.tp) + ', val = ' + str(self.val) + ')'\n",
    "\n",
    "class Type:\n",
    "    def __init__(self, tp):\n",
    "        self.tp, self.val = None, tp\n",
    "    def __str__(self):\n",
    "        return 'Type(name = ' + str(getattr(self, 'name', '')) + ', val = ' + \\\n",
    "               str(self.val) + ')'\n",
    "\n",
    "\n",
    "class Proc:\n",
    "    def __init__(self, par):\n",
    "        self.tp, self.par = None, par\n",
    "    def __str__(self):\n",
    "        return 'Proc(name = ' + self.name + ', lev = ' + str(self.lev) + \\\n",
    "               ', par = [' + ', '.join(str(s) for s in self.par) + '])'\n",
    "\n",
    "class StdProc:\n",
    "    def __init__(self, par):\n",
    "        self.tp, self.par = None, par\n",
    "    def __str__(self):\n",
    "        return 'StdProc(name = ' + self.name + ', lev = ' + str(self.lev) + \\\n",
    "               ', par = [' + ', '.join(str(s) for s in self.par) + '])'"
   ]
  },
  {
   "cell_type": "code",
   "execution_count": 5,
   "metadata": {},
   "outputs": [],
   "source": [
    "class Int: pass\n",
    "\n",
    "class Bool: pass\n",
    "\n",
    "class Enum: pass # for adding enumeration types\n",
    "\n",
    "class Record:\n",
    "    def __init__(self, fields):\n",
    "        self.fields = fields\n",
    "    def __str__(self):\n",
    "        return 'Record(fields = [' + ', '.join(str(f) for f in self.fields) + '])'\n",
    "\n",
    "class Array:\n",
    "    def __init__(self, base, lower, length):\n",
    "        self.base, self.lower, self.length = base, lower, length\n",
    "    def __str__(self):\n",
    "        return 'Array(lower = ' + str(self.lower) + ', length = ' + \\\n",
    "               str(self.length) + ', base = ' + str(self.base) + ')'\n",
    "\n",
    "##pointer type\n",
    "class Pointer:\n",
    "    def __init__(self, base_tp):\n",
    "        self.base = base_tp\n",
    "    def __str__(self):\n",
    "        return 'Pointer(name = ' + str(getattr(self, 'name', '')) + ', lev = ' + \\\n",
    "                str(getattr(self, 'lev', '')) + ', tp = ' + str(self.base) + ')'\n"
   ]
  },
  {
   "cell_type": "code",
   "execution_count": 5,
   "metadata": {},
   "outputs": [],
   "source": [
    "def init():\n",
    "    global symTab\n",
    "    symTab = [[]] #list of scopes; for each scope, there is a list of entries\n",
    "\n",
    "def printSymTab():\n",
    "    for l in symTab:\n",
    "        for e in l: print(e)\n",
    "        print()\n",
    "\n",
    "def newDecl(name, entry): #declaration\n",
    "    top, entry.lev, entry.name = symTab[0], len(symTab) - 1, name #lev means level\n",
    "    for e in top:\n",
    "        if e.name == name:\n",
    "            mark(\"multiple definition\"); return\n",
    "    top.append(entry)\n",
    "\n",
    "def find(name):\n",
    "    for l in symTab:\n",
    "        for e in l:\n",
    "            if name == e.name: return e\n",
    "    mark('undefined identifier ' + name)\n",
    "    return Const(None, 0)\n",
    "\n",
    "\n",
    "def openScope():\n",
    "    symTab.insert(0, [])\n",
    "\n",
    "def topScope():\n",
    "    return symTab[0]\n",
    "\n",
    "def closeScope():\n",
    "    symTab.pop(0)"
   ]
  },
  {
   "cell_type": "code",
   "execution_count": null,
   "metadata": {},
   "outputs": [],
   "source": []
  }
 ],
 "metadata": {
  "kernelspec": {
   "display_name": "Python 3",
   "language": "python",
   "name": "python3"
  },
  "language_info": {
   "codemirror_mode": {
    "name": "ipython",
    "version": 3
   },
   "file_extension": ".py",
   "mimetype": "text/x-python",
   "name": "python",
   "nbconvert_exporter": "python",
   "pygments_lexer": "ipython3",
   "version": "3.7.4"
  }
 },
 "nbformat": 4,
 "nbformat_minor": 2
}
