{
 "cells": [
  {
   "cell_type": "markdown",
   "metadata": {},
   "source": [
    "## Project Test Suite"
   ]
  },
  {
   "cell_type": "code",
   "execution_count": 1,
   "metadata": {},
   "outputs": [
    {
     "name": "stdout",
     "output_type": "stream",
     "text": [
      "Importing Jupyter notebook from ST.ipynb\n",
      "Importing Jupyter notebook from SC.ipynb\n",
      "Importing Jupyter notebook from P0.ipynb\n",
      "Importing Jupyter notebook from HM.ipynb\n",
      "Importing Jupyter notebook from CGwat.ipynb\n"
     ]
    }
   ],
   "source": [
    "import nbimporter; nbimporter.options[\"only_defs\"] = False\n",
    "from ST import *\n",
    "from SC import *\n",
    "from P0 import compileString\n",
    "from HM import LinkedList, Node\n",
    "from CGwat import genShowHeap"
   ]
  },
  {
   "cell_type": "markdown",
   "metadata": {},
   "source": [
    "### Node Test Cases"
   ]
  },
  {
   "cell_type": "code",
   "execution_count": 2,
   "metadata": {},
   "outputs": [],
   "source": [
    "i = Array(Int,1,2)\n",
    "i.size = 8\n",
    "p1 = Pointer(i)\n",
    "p1.name = 'pointer1'\n",
    "v = Var(p1)\n",
    "v.name = 'x1'\n",
    "p2 = Pointer(i)\n",
    "p2.name = 'pointer2'\n",
    "v1 = Var(p2)\n",
    "v1.name = 'x2'\n",
    "new_node = Node(allocated=True,size=v.tp.base.size,adr = 1)\n",
    "nxt = Node(allocated=True,size=v1.tp.base.size,adr = 9)\n",
    "new_node.set_nxt(nxt)"
   ]
  },
  {
   "cell_type": "markdown",
   "metadata": {},
   "source": [
    "get_nxt(self):\\\n",
    "`adr is 9, size is 8, is_alloc: True, nxt: None`"
   ]
  },
  {
   "cell_type": "code",
   "execution_count": 3,
   "metadata": {},
   "outputs": [
    {
     "name": "stdout",
     "output_type": "stream",
     "text": [
      "adr is 9, size is 8, is_alloc: True, nxt: \n",
      "None\n"
     ]
    }
   ],
   "source": [
    "print(str(new_node.get_nxt()))"
   ]
  },
  {
   "cell_type": "markdown",
   "metadata": {},
   "source": [
    "`error: next should be Node`"
   ]
  },
  {
   "cell_type": "code",
   "execution_count": 4,
   "metadata": {},
   "outputs": [
    {
     "name": "stdout",
     "output_type": "stream",
     "text": [
      "error: next should be Node\n"
     ]
    }
   ],
   "source": [
    "i = Int\n",
    "i.size = 4\n",
    "p = Pointer(i)\n",
    "v3 = Var(p)\n",
    "new_node.set_nxt(v3)"
   ]
  },
  {
   "cell_type": "markdown",
   "metadata": {},
   "source": [
    "set_nxt(self,data) returns\n",
    "`adr is 9, size is 4, is_alloc: True, nxt: None`"
   ]
  },
  {
   "cell_type": "code",
   "execution_count": 5,
   "metadata": {},
   "outputs": [
    {
     "name": "stdout",
     "output_type": "stream",
     "text": [
      "adr is 9, size is 4, is_alloc: True, nxt: \n",
      "None\n"
     ]
    }
   ],
   "source": [
    "i = Int\n",
    "i.size = 4\n",
    "p = Pointer(i)\n",
    "v3 = Var(p)\n",
    "v3.name = \"next_node\"\n",
    "next_node = Node(allocated=True,size=v3.tp.base.size,adr=9)\n",
    "new_node.set_nxt(next_node)\n",
    "print(new_node.get_nxt())"
   ]
  },
  {
   "cell_type": "markdown",
   "metadata": {},
   "source": [
    "`is_alloc(self)\\\n",
    "True`"
   ]
  },
  {
   "cell_type": "code",
   "execution_count": 6,
   "metadata": {},
   "outputs": [
    {
     "name": "stdout",
     "output_type": "stream",
     "text": [
      "True\n"
     ]
    }
   ],
   "source": [
    "print(new_node.is_alloc())"
   ]
  },
  {
   "cell_type": "markdown",
   "metadata": {},
   "source": [
    "`getSize(self)\\\n",
    "8`"
   ]
  },
  {
   "cell_type": "code",
   "execution_count": 7,
   "metadata": {},
   "outputs": [
    {
     "name": "stdout",
     "output_type": "stream",
     "text": [
      "8\n"
     ]
    }
   ],
   "source": [
    "print(new_node.getSize())"
   ]
  },
  {
   "cell_type": "markdown",
   "metadata": {},
   "source": [
    "`free` new_node and new_node.nxt"
   ]
  },
  {
   "cell_type": "code",
   "execution_count": 8,
   "metadata": {},
   "outputs": [
    {
     "name": "stdout",
     "output_type": "stream",
     "text": [
      "adr is 1, size is 8, is_alloc: False, nxt: \n",
      "adr is 9, size is 4, is_alloc: False, nxt: \n",
      "None\n"
     ]
    }
   ],
   "source": [
    "new_node.free()\n",
    "new_node.get_nxt().free()\n",
    "print(new_node)"
   ]
  },
  {
   "cell_type": "markdown",
   "metadata": {},
   "source": [
    "### LinkedList Test Cases:"
   ]
  },
  {
   "cell_type": "code",
   "execution_count": 9,
   "metadata": {},
   "outputs": [
    {
     "name": "stdout",
     "output_type": "stream",
     "text": [
      "None\n"
     ]
    }
   ],
   "source": [
    "linkedlist = LinkedList(adr=0)\n",
    "print(linkedlist.start)"
   ]
  },
  {
   "cell_type": "code",
   "execution_count": 10,
   "metadata": {},
   "outputs": [],
   "source": [
    "i = Array(Int,2,2)\n",
    "i.size = 8\n",
    "p = Pointer(i)\n",
    "v = Var(p)\n",
    "v.name = 'y'"
   ]
  },
  {
   "cell_type": "markdown",
   "metadata": {},
   "source": [
    "allocate(self,p)\\\n",
    "`adr is 0, size is 8, is_alloc: True, nxt: None`"
   ]
  },
  {
   "cell_type": "code",
   "execution_count": 11,
   "metadata": {},
   "outputs": [
    {
     "name": "stdout",
     "output_type": "stream",
     "text": [
      "adr is 0, size is 8, is_alloc: True, nxt: \n",
      "None\n"
     ]
    }
   ],
   "source": [
    "linkedlist.allocate(v,1)\n",
    "print(linkedlist.start)"
   ]
  },
  {
   "cell_type": "markdown",
   "metadata": {},
   "source": [
    "deallocate(self,adr)\\ `adr is 0, size is 8, is_alloc: True, nxt: None`"
   ]
  },
  {
   "cell_type": "code",
   "execution_count": 12,
   "metadata": {},
   "outputs": [
    {
     "name": "stdout",
     "output_type": "stream",
     "text": [
      "adr is 0, size is 8, is_alloc: False, nxt: \n",
      "None\n"
     ]
    }
   ],
   "source": [
    "linkedlist.deallocate(1)\n",
    "print(linkedlist.start)"
   ]
  },
  {
   "cell_type": "markdown",
   "metadata": {},
   "source": [
    "error: not an object\\\n",
    "`error: not allocated.`\n"
   ]
  },
  {
   "cell_type": "code",
   "execution_count": 13,
   "metadata": {},
   "outputs": [
    {
     "name": "stdout",
     "output_type": "stream",
     "text": [
      "error: not allocated.\n"
     ]
    },
    {
     "data": {
      "text/plain": [
       "False"
      ]
     },
     "execution_count": 13,
     "metadata": {},
     "output_type": "execute_result"
    }
   ],
   "source": [
    "linkedlist.deallocate(1)"
   ]
  },
  {
   "cell_type": "markdown",
   "metadata": {},
   "source": [
    "search(self,p)\\\n",
    "\n",
    "`adr is 0, size is 4, is_alloc: True, nxt: \n",
    "adr is 4, size is 4, is_alloc: True, nxt: \n",
    "None`"
   ]
  },
  {
   "cell_type": "code",
   "execution_count": 14,
   "metadata": {},
   "outputs": [
    {
     "name": "stdout",
     "output_type": "stream",
     "text": [
      "adr is 0, size is 4, is_alloc: True, nxt: \n",
      "adr is 4, size is 4, is_alloc: True, nxt: \n",
      "None\n"
     ]
    }
   ],
   "source": [
    "i = Int\n",
    "i.size = 4\n",
    "p = Pointer(i)\n",
    "v = Var(p)\n",
    "v.name = 'y'\n",
    "p1 = Pointer(i)\n",
    "v2 = Var(p1)\n",
    "v2.name = 'x'\n",
    "linkedlist.allocate(v,2)\n",
    "linkedlist.allocate(v2,3)\n",
    "print(linkedlist.start)"
   ]
  },
  {
   "cell_type": "markdown",
   "metadata": {},
   "source": [
    "deallocate(v2.adr), the linkedlist becomes \n",
    "\n",
    "`adr is 0, size is 4, is_alloc: True, nxt: \n",
    "adr is 4, size is 4, is_alloc: False, nxt: \n",
    "None`"
   ]
  },
  {
   "cell_type": "code",
   "execution_count": 15,
   "metadata": {},
   "outputs": [
    {
     "name": "stdout",
     "output_type": "stream",
     "text": [
      "adr is 0, size is 4, is_alloc: True, nxt: \n",
      "adr is 4, size is 4, is_alloc: False, nxt: \n",
      "None\n"
     ]
    }
   ],
   "source": [
    "linkedlist.deallocate(3)\n",
    "print(linkedlist.start)"
   ]
  },
  {
   "cell_type": "markdown",
   "metadata": {},
   "source": [
    "### Syntax Checks"
   ]
  },
  {
   "cell_type": "markdown",
   "metadata": {},
   "source": [
    "error: ']' expected"
   ]
  },
  {
   "cell_type": "code",
   "execution_count": 16,
   "metadata": {},
   "outputs": [
    {
     "name": "stdout",
     "output_type": "stream",
     "text": [
      "error: line 7 pos 11 ] expected\n"
     ]
    }
   ],
   "source": [
    "compileString(\"\"\"\n",
    "program p;\n",
    "  var x: integer;\n",
    "  var a: ^array [1..5] of integer;\n",
    "  begin\n",
    "  new(a);\n",
    "  x := a[1^ end\n",
    "\"\"\")"
   ]
  },
  {
   "cell_type": "markdown",
   "metadata": {},
   "source": [
    "error \"expression expected\""
   ]
  },
  {
   "cell_type": "code",
   "execution_count": 17,
   "metadata": {
    "scrolled": true
   },
   "outputs": [
    {
     "name": "stdout",
     "output_type": "stream",
     "text": [
      "error: line 6 pos 9 expression expected\n",
      "error: line 6 pos 13 incompatible assignment\n"
     ]
    }
   ],
   "source": [
    "compileString(\"\"\"\n",
    "program p;\n",
    "  var x: ^integer;\n",
    "  begin \n",
    "  new(x);\n",
    "  x^ := ^ end\n",
    "\"\"\")"
   ]
  },
  {
   "cell_type": "markdown",
   "metadata": {},
   "source": [
    "error \") expected\""
   ]
  },
  {
   "cell_type": "code",
   "execution_count": 18,
   "metadata": {},
   "outputs": [
    {
     "name": "stdout",
     "output_type": "stream",
     "text": [
      "error: line 6 pos 14 ) expected\n"
     ]
    }
   ],
   "source": [
    "compileString(\"\"\"\n",
    "program p;\n",
    "  var x: ^integer;\n",
    "  begin\n",
    "  new(x);\n",
    "  x^ := (5 end\n",
    "\"\"\")"
   ]
  },
  {
   "cell_type": "markdown",
   "metadata": {},
   "source": [
    "error '[' expected\", '.' expected, \"expression expected\", \"bad upper bound\""
   ]
  },
  {
   "cell_type": "code",
   "execution_count": 19,
   "metadata": {},
   "outputs": [
    {
     "name": "stdout",
     "output_type": "stream",
     "text": [
      "error: line 3 pos 19 '[' expected\n",
      "error: line 3 pos 22 '.' expected\n",
      "error: line 3 pos 30 expression expected\n",
      "error: line 3 pos 31 bad upper bound\n"
     ]
    }
   ],
   "source": [
    "compileString(\"\"\"\n",
    "program p;\n",
    "  type x = ^array 5 of integer;\n",
    "  begin \n",
    "  writeln \n",
    "  end\n",
    "\"\"\")"
   ]
  },
  {
   "cell_type": "markdown",
   "metadata": {},
   "source": [
    "error: '=' expected"
   ]
  },
  {
   "cell_type": "code",
   "execution_count": 20,
   "metadata": {},
   "outputs": [
    {
     "name": "stdout",
     "output_type": "stream",
     "text": [
      "error: line 3 pos 9 = expected\n"
     ]
    }
   ],
   "source": [
    "compileString(\"\"\"\n",
    "program p;\n",
    "  type T: ^integer;\n",
    "  begin writeln end\n",
    "\"\"\")"
   ]
  },
  {
   "cell_type": "markdown",
   "metadata": {},
   "source": [
    "error: ':=' expected"
   ]
  },
  {
   "cell_type": "code",
   "execution_count": 21,
   "metadata": {},
   "outputs": [
    {
     "name": "stdout",
     "output_type": "stream",
     "text": [
      "error: line 7 pos 8 := expected\n"
     ]
    }
   ],
   "source": [
    "compileString(\"\"\"\n",
    "program p;\n",
    "  type i = ^integer;\n",
    "  var x : i;\n",
    "  begin\n",
    "    new(x);\n",
    "    x^ = 1\n",
    "  end\n",
    "\"\"\")"
   ]
  },
  {
   "cell_type": "markdown",
   "metadata": {},
   "source": [
    "error: '^' expected"
   ]
  },
  {
   "cell_type": "code",
   "execution_count": 22,
   "metadata": {},
   "outputs": [
    {
     "name": "stdout",
     "output_type": "stream",
     "text": [
      "error: line 10 pos 5 ^ expected\n"
     ]
    }
   ],
   "source": [
    "compileString(\"\"\"\n",
    "program p;\n",
    "  type i = ^integer;\n",
    "  type j = integer;\n",
    "  var x : i;\n",
    "  var y : j;\n",
    "  begin\n",
    "    new(x);\n",
    "    y := x\n",
    "  end\n",
    "\"\"\")"
   ]
  },
  {
   "cell_type": "markdown",
   "metadata": {},
   "source": [
    "error: '^' expected"
   ]
  },
  {
   "cell_type": "code",
   "execution_count": 23,
   "metadata": {},
   "outputs": [
    {
     "name": "stdout",
     "output_type": "stream",
     "text": [
      "error: line 8 pos 12 ^ expected\n"
     ]
    }
   ],
   "source": [
    "compileString(\"\"\"\n",
    "program p;\n",
    "  type i = ^integer;\n",
    "  var x : i;\n",
    "  begin\n",
    "    new(x);\n",
    "    x^ := 1;\n",
    "    write(x)\n",
    "  end\n",
    "\"\"\")"
   ]
  },
  {
   "cell_type": "markdown",
   "metadata": {},
   "source": [
    "### Symbol Table Tests"
   ]
  },
  {
   "cell_type": "markdown",
   "metadata": {},
   "source": [
    "error \"undefined identifier\", \"bad upper bound\""
   ]
  },
  {
   "cell_type": "code",
   "execution_count": 24,
   "metadata": {},
   "outputs": [
    {
     "name": "stdout",
     "output_type": "stream",
     "text": [
      "error: line 3 pos 25 undefined identifier N\n",
      "error: line 3 pos 38 bad upper bound\n"
     ]
    }
   ],
   "source": [
    "compileString(\"\"\"\n",
    "program p;\n",
    "  type x = ^array [7 .. N] of integer;\n",
    "  var v1: x;\n",
    "  begin writeln()\n",
    "  end\n",
    "\"\"\")"
   ]
  },
  {
   "cell_type": "code",
   "execution_count": 25,
   "metadata": {},
   "outputs": [
    {
     "name": "stdout",
     "output_type": "stream",
     "text": [
      "error: line 4 pos 18 multiple definition\n",
      "error: line 5 pos 12 variable or procedure expected\n"
     ]
    }
   ],
   "source": [
    "compileString(\"\"\"\n",
    "program p;\n",
    "  const x = 9;\n",
    "  var x : integer;\n",
    "  begin x := 7\n",
    "  end\n",
    "\"\"\")"
   ]
  },
  {
   "cell_type": "code",
   "execution_count": 26,
   "metadata": {},
   "outputs": [
    {
     "name": "stdout",
     "output_type": "stream",
     "text": [
      "error: line 20 pos 14 ; expected\n",
      "error: line 21 pos 5 'end' expected\n",
      "Type(name = boolean, val = <class 'ST.Bool'>)\n",
      "Type(name = integer, val = <class 'ST.Int'>)\n",
      "Const(name = true, tp = <class 'ST.Bool'>, val = 1)\n",
      "Const(name = false, tp = <class 'ST.Bool'>, val = 0)\n",
      "StdProc(name = read, lev = 0, par = [Ref(name = , lev = , tp = <class 'ST.Int'>)])\n",
      "StdProc(name = write, lev = 0, par = [Var(name = , lev = , tp = <class 'ST.Int'>)])\n",
      "StdProc(name = writeln, lev = 0, par = [])\n",
      "StdProc(name = new, lev = 0, par = [Var(name = , lev = , tp = Pointer(name = , lev = , tp = <class 'ST.Int'>))])\n",
      "StdProc(name = dispose, lev = 0, par = [Var(name = , lev = , tp = Pointer(name = , lev = , tp = <class 'ST.Int'>))])\n",
      "Type(name = a, val = Pointer(name = , lev = , tp = <class 'ST.Int'>))\n",
      "Type(name = b, val = Pointer(name = , lev = , tp = <class 'ST.Bool'>))\n",
      "Type(name = c, val = Pointer(name = , lev = , tp = Array(lower = 1, length = 5, base = <class 'ST.Int'>)))\n",
      "Type(name = d, val = Array(lower = 1, length = 5, base = Pointer(name = , lev = , tp = <class 'ST.Int'>)))\n",
      "Type(name = e, val = Pointer(name = , lev = , tp = Record(fields = [Var(name = i, lev = 1, tp = <class 'ST.Int'>), Var(name = j, lev = 1, tp = <class 'ST.Bool'>)])))\n",
      "Type(name = f, val = Record(fields = [Var(name = i, lev = 1, tp = Pointer(name = , lev = , tp = <class 'ST.Int'>)), Var(name = j, lev = 1, tp = Pointer(name = , lev = , tp = <class 'ST.Bool'>))]))\n",
      "Type(name = oo1, val = Array(lower = 1, length = 5, base = Array(lower = 1, length = 3, base = Record(fields = [Var(name = tt, lev = 1, tp = Array(lower = 1, length = 5, base = Pointer(name = , lev = , tp = <class 'ST.Int'>)))]))))\n",
      "Type(name = oo2, val = Array(lower = 1, length = 5, base = Array(lower = 1, length = 3, base = Record(fields = [Var(name = tt, lev = 1, tp = Pointer(name = , lev = , tp = Array(lower = 1, length = 5, base = <class 'ST.Int'>)))]))))\n",
      "Type(name = oo3, val = Array(lower = 1, length = 5, base = Array(lower = 1, length = 3, base = Pointer(name = , lev = , tp = Record(fields = [Var(name = tt, lev = 1, tp = Array(lower = 1, length = 5, base = <class 'ST.Int'>))])))))\n",
      "Type(name = oo4, val = Array(lower = 1, length = 5, base = Pointer(name = , lev = , tp = Array(lower = 1, length = 3, base = Record(fields = [Var(name = tt, lev = 1, tp = Array(lower = 1, length = 5, base = <class 'ST.Int'>))])))))\n",
      "Type(name = oo5, val = Pointer(name = , lev = , tp = Array(lower = 1, length = 5, base = Pointer(name = , lev = , tp = Array(lower = 1, length = 3, base = Pointer(name = , lev = , tp = Record(fields = [Var(name = tt, lev = 1, tp = Pointer(name = , lev = , tp = Array(lower = 1, length = 5, base = Pointer(name = , lev = , tp = <class 'ST.Int'>))))])))))))\n",
      "Var(name = x1, lev = -2, tp = Pointer(name = , lev = , tp = <class 'ST.Int'>))\n",
      "Var(name = x2, lev = -2, tp = Pointer(name = , lev = , tp = <class 'ST.Bool'>))\n",
      "Var(name = x3, lev = -2, tp = Pointer(name = , lev = , tp = Array(lower = 1, length = 5, base = <class 'ST.Int'>)))\n",
      "Var(name = x4, lev = -2, tp = Array(lower = 1, length = 5, base = Pointer(name = , lev = , tp = <class 'ST.Int'>)))\n",
      "Var(name = x5, lev = -2, tp = Pointer(name = , lev = , tp = Record(fields = [Var(name = i, lev = 1, tp = <class 'ST.Int'>), Var(name = j, lev = 1, tp = <class 'ST.Bool'>)])))\n",
      "Var(name = x6, lev = -2, tp = Record(fields = [Var(name = i, lev = 1, tp = Pointer(name = , lev = , tp = <class 'ST.Int'>)), Var(name = j, lev = 1, tp = Pointer(name = , lev = , tp = <class 'ST.Bool'>))]))\n",
      "Var(name = y1, lev = -2, tp = Array(lower = 1, length = 5, base = Array(lower = 1, length = 3, base = Record(fields = [Var(name = tt, lev = 1, tp = Array(lower = 1, length = 5, base = Pointer(name = , lev = , tp = <class 'ST.Int'>)))]))))\n",
      "\n"
     ]
    }
   ],
   "source": [
    "compileString(\"\"\"\n",
    "program p;\n",
    "  type a = ^integer;\n",
    "  type b = ^boolean;\n",
    "  type c = ^array [1..5] of integer;\n",
    "  type d = array [1..5] of ^integer;\n",
    "  type e = ^record i: integer; j: boolean end;\n",
    "  type f = record i: ^integer; j: ^boolean end;\n",
    "  type oo1 = array [1..5] of array [1..3] of record tt : array [1..5] of ^integer end;\n",
    "  type oo2 = array [1..5] of array [1..3] of record tt : ^array [1..5] of integer end;\n",
    "  type oo3 = array [1..5] of array [1..3] of ^record tt : array [1..5] of integer end;\n",
    "  type oo4 = array [1..5] of ^array [1..3] of record tt : array [1..5] of integer end;\n",
    "  type oo5 = ^array [1..5] of ^array [1..3] of ^record tt : ^array [1..5] of ^integer end;\n",
    "  var x1: a;\n",
    "  var x2: b;\n",
    "  var x3: c;\n",
    "  var x4: d;\n",
    "  var x5: e;\n",
    "  var x6: f;\n",
    "  var y1: oo1:\n",
    "  var y2: oo2:\n",
    "  var y3: oo3:\n",
    "  var y4: oo4:\n",
    "  var y5: oo5:\n",
    "  begin\n",
    "    new(x1)\n",
    "  end\n",
    "\"\"\" , dstfn = \"test.wat\")\n",
    "printSymTab()"
   ]
  },
  {
   "cell_type": "markdown",
   "metadata": {},
   "source": [
    "### Type Checking Tests"
   ]
  },
  {
   "cell_type": "markdown",
   "metadata": {},
   "source": [
    "error \"not a field\", \"incompatible assignment\""
   ]
  },
  {
   "cell_type": "code",
   "execution_count": 27,
   "metadata": {},
   "outputs": [
    {
     "name": "stdout",
     "output_type": "stream",
     "text": [
      "error: line 6 pos 5 not a field\n",
      "error: line 7 pos 5 incompatible assignment\n"
     ]
    }
   ],
   "source": [
    "compileString(\"\"\"\n",
    "program p;\n",
    "  var v: ^record f: integer end;\n",
    "  begin \n",
    "  new(v);\n",
    "  v.g^ := 4\n",
    "  end\n",
    "\"\"\")"
   ]
  },
  {
   "cell_type": "markdown",
   "metadata": {},
   "source": [
    "error \"not a field\", \"incompatible assignment\""
   ]
  },
  {
   "cell_type": "code",
   "execution_count": 28,
   "metadata": {
    "scrolled": true
   },
   "outputs": [
    {
     "name": "stdout",
     "output_type": "stream",
     "text": [
      "error: line 7 pos 8 not a field\n",
      "error: line 8 pos 5 incompatible assignment\n"
     ]
    }
   ],
   "source": [
    "compileString(\"\"\"\n",
    "program p;\n",
    "  type p = ^array [1..3] of record f : integer end; \n",
    "  var x : p;\n",
    "  begin \n",
    "  new(x);\n",
    "  x[1].g^ := 4\n",
    "  end\n",
    "\"\"\")"
   ]
  },
  {
   "cell_type": "markdown",
   "metadata": {},
   "source": [
    "error \"index out of bounds\", \"incompatible assignment\""
   ]
  },
  {
   "cell_type": "code",
   "execution_count": 29,
   "metadata": {},
   "outputs": [
    {
     "name": "stdout",
     "output_type": "stream",
     "text": [
      "error: line 6 pos 6 index out of bounds\n",
      "error: line 7 pos 5 incompatible assignment\n"
     ]
    }
   ],
   "source": [
    "compileString(\"\"\"\n",
    "program p;\n",
    "  var x: ^array [4 .. 7] of integer;\n",
    "  begin \n",
    "  new(x);\n",
    "  x[1]^ := 3\n",
    "  end\n",
    "\"\"\")"
   ]
  },
  {
   "cell_type": "markdown",
   "metadata": {},
   "source": [
    "error \"index out of bounds\", \"incompatible assignment\""
   ]
  },
  {
   "cell_type": "code",
   "execution_count": 30,
   "metadata": {},
   "outputs": [
    {
     "name": "stdout",
     "output_type": "stream",
     "text": [
      "error: line 6 pos 6 index out of bounds\n",
      "error: line 7 pos 5 incompatible assignment\n"
     ]
    }
   ],
   "source": [
    "compileString(\"\"\"\n",
    "program p;\n",
    "  var x: ^array [4 .. 7] of integer;\n",
    "  begin \n",
    "  new(x);\n",
    "  x[8]^ := 3\n",
    "  end\n",
    "\"\"\")"
   ]
  },
  {
   "cell_type": "markdown",
   "metadata": {},
   "source": [
    "error \"index not integer\", \"incompatible assignment\""
   ]
  },
  {
   "cell_type": "code",
   "execution_count": 31,
   "metadata": {},
   "outputs": [
    {
     "name": "stdout",
     "output_type": "stream",
     "text": [
      "error: line 6 pos 6 index not integer\n",
      "error: line 7 pos 5 incompatible assignment\n"
     ]
    }
   ],
   "source": [
    "compileString(\"\"\"\n",
    "program p;\n",
    "  var x: ^array [4 .. 7] of integer;\n",
    "  begin \n",
    "  new(x);\n",
    "  x[x]^ := 3\n",
    "  end\n",
    "\"\"\")"
   ]
  },
  {
   "cell_type": "markdown",
   "metadata": {},
   "source": [
    "error : \"index out of bounds\""
   ]
  },
  {
   "cell_type": "code",
   "execution_count": 32,
   "metadata": {},
   "outputs": [
    {
     "name": "stdout",
     "output_type": "stream",
     "text": [
      "error: line 7 pos 9 index out of bounds\n"
     ]
    }
   ],
   "source": [
    "compileString(\"\"\"\n",
    "program p;\n",
    "  type p = ^record tt: array [1..3] of integer end; \n",
    "  var x : p;\n",
    "  begin\n",
    "  new(x);\n",
    "  x.tt[4]^ := 3\n",
    "  end\n",
    "\"\"\")"
   ]
  },
  {
   "cell_type": "markdown",
   "metadata": {},
   "source": [
    "error: \"not Pointer\""
   ]
  },
  {
   "cell_type": "code",
   "execution_count": 33,
   "metadata": {},
   "outputs": [
    {
     "name": "stdout",
     "output_type": "stream",
     "text": [
      "error: line 6 pos 9 xis not Pointer\n"
     ]
    }
   ],
   "source": [
    "compileString(\"\"\"\n",
    "program p;\n",
    "  type i = integer;\n",
    "  var x : i;\n",
    "  begin\n",
    "    x^ := 1\n",
    "  end\n",
    "\"\"\")"
   ]
  },
  {
   "cell_type": "markdown",
   "metadata": {},
   "source": [
    "error: \"incompatible assignment\""
   ]
  },
  {
   "cell_type": "code",
   "execution_count": 34,
   "metadata": {},
   "outputs": [
    {
     "name": "stdout",
     "output_type": "stream",
     "text": [
      "error: line 10 pos 5 incompatible assignment\n"
     ]
    }
   ],
   "source": [
    "compileString(\"\"\"\n",
    "program p;\n",
    "  type i = ^integer;\n",
    "  type j = integer;\n",
    "  var x : i;\n",
    "  var y : j;\n",
    "  begin\n",
    "    new(x);\n",
    "    x := y\n",
    "  end\n",
    "\"\"\")"
   ]
  },
  {
   "cell_type": "markdown",
   "metadata": {},
   "source": [
    "error: \"incompatible assignment\""
   ]
  },
  {
   "cell_type": "code",
   "execution_count": 35,
   "metadata": {},
   "outputs": [
    {
     "name": "stdout",
     "output_type": "stream",
     "text": [
      "error: line 11 pos 5 incompatible assignment\n"
     ]
    }
   ],
   "source": [
    "compileString(\"\"\"\n",
    "program p;\n",
    "  type i = ^integer;\n",
    "  type j = ^integer;\n",
    "  var x : i;\n",
    "  var y : j;\n",
    "  begin\n",
    "    new(x);\n",
    "    new(y);\n",
    "    x := y^\n",
    "  end\n",
    "\"\"\")"
   ]
  },
  {
   "cell_type": "markdown",
   "metadata": {},
   "source": [
    "error: \"incompatible assignment\""
   ]
  },
  {
   "cell_type": "code",
   "execution_count": 36,
   "metadata": {},
   "outputs": [
    {
     "name": "stdout",
     "output_type": "stream",
     "text": [
      "error: line 11 pos 5 incompatible assignment\n"
     ]
    }
   ],
   "source": [
    "compileString(\"\"\"\n",
    "program p;\n",
    "  type i = ^integer;\n",
    "  type j = ^integer;\n",
    "  var x : i;\n",
    "  var y : j;\n",
    "  begin\n",
    "    new(x);\n",
    "    new(y);\n",
    "    x^ := y\n",
    "  end\n",
    "\"\"\")"
   ]
  },
  {
   "cell_type": "markdown",
   "metadata": {},
   "source": [
    "error: \"incompatible assignment\""
   ]
  },
  {
   "cell_type": "code",
   "execution_count": 37,
   "metadata": {},
   "outputs": [
    {
     "name": "stdout",
     "output_type": "stream",
     "text": [
      "error: line 8 pos 5 incompatible assignment\n"
     ]
    }
   ],
   "source": [
    "compileString(\"\"\"\n",
    "program p;\n",
    "  type i = ^boolean;\n",
    "  var x : i;\n",
    "  begin\n",
    "    new(x);\n",
    "    x^ := 1\n",
    "  end\n",
    "\"\"\")"
   ]
  },
  {
   "cell_type": "code",
   "execution_count": 38,
   "metadata": {},
   "outputs": [
    {
     "name": "stdout",
     "output_type": "stream",
     "text": [
      "error: line 10 pos 5 incompatible assignment\n"
     ]
    }
   ],
   "source": [
    "compileString(\"\"\"\n",
    "program p;\n",
    "  type i = boolean;\n",
    "  type j = ^integer;\n",
    "  var x : i;\n",
    "  var y : j;\n",
    "  begin\n",
    "    new(y);\n",
    "    x := y^\n",
    "  end\n",
    "\"\"\")"
   ]
  },
  {
   "cell_type": "markdown",
   "metadata": {},
   "source": [
    "### WebAssembly Code Generator Tests"
   ]
  },
  {
   "cell_type": "code",
   "execution_count": 39,
   "metadata": {},
   "outputs": [],
   "source": [
    "def runpywasm(wasmfile):\n",
    "    import pywasm\n",
    "    def write(i): print(i)\n",
    "    def writeln(): print('\\n')\n",
    "    def read(): return int(input())\n",
    "    \n",
    "\n",
    "    vm = pywasm.load(wasmfile, {'P0lib': {'write': write, 'writeln': writeln, 'read': read}})"
   ]
  },
  {
   "cell_type": "markdown",
   "metadata": {},
   "source": [
    "### Explicit allocation "
   ]
  },
  {
   "cell_type": "markdown",
   "metadata": {},
   "source": [
    "`simply allocating an Int object pointed by `x` on the heap.`"
   ]
  },
  {
   "cell_type": "code",
   "execution_count": 40,
   "metadata": {},
   "outputs": [
    {
     "name": "stdout",
     "output_type": "stream",
     "text": [
      "(module\n",
      "(import \"P0lib\" \"write\" (func $write (param i32)))\n",
      "(import \"P0lib\" \"writeln\" (func $writeln))\n",
      "(import \"P0lib\" \"read\" (func $read (result i32)))\n",
      "(func $program\n",
      "i32.const 4\n",
      "i32.const 8\n",
      "i32.store\n",
      ")\n",
      "(memory 1)\n",
      "(start $program)\n",
      ")\n"
     ]
    }
   ],
   "source": [
    "compileString(\"\"\"\n",
    "program p;\n",
    "  type a = ^integer;\n",
    "  var y : a;\n",
    "  var x : a;\n",
    "  begin\n",
    "      new(x)\n",
    "  end\n",
    "\"\"\", dstfn = \"test.wat\")"
   ]
  },
  {
   "cell_type": "code",
   "execution_count": 41,
   "metadata": {},
   "outputs": [],
   "source": [
    "!wat2wasm test.wat"
   ]
  },
  {
   "cell_type": "code",
   "execution_count": 42,
   "metadata": {},
   "outputs": [],
   "source": [
    "runpywasm(\"test.wasm\")"
   ]
  },
  {
   "cell_type": "code",
   "execution_count": 43,
   "metadata": {},
   "outputs": [
    {
     "name": "stdout",
     "output_type": "stream",
     "text": [
      "adr is 8, size is 4, is_alloc: True, nxt: \n",
      "None\n"
     ]
    }
   ],
   "source": [
    "genShowHeap()"
   ]
  },
  {
   "cell_type": "markdown",
   "metadata": {},
   "source": [
    "`simply allocating a Bool object pointed by `x` on the heap.`"
   ]
  },
  {
   "cell_type": "code",
   "execution_count": 44,
   "metadata": {},
   "outputs": [
    {
     "name": "stdout",
     "output_type": "stream",
     "text": [
      "(module\n",
      "(import \"P0lib\" \"write\" (func $write (param i32)))\n",
      "(import \"P0lib\" \"writeln\" (func $writeln))\n",
      "(import \"P0lib\" \"read\" (func $read (result i32)))\n",
      "(func $program\n",
      "i32.const 0\n",
      "i32.const 4\n",
      "i32.store\n",
      ")\n",
      "(memory 1)\n",
      "(start $program)\n",
      ")\n"
     ]
    }
   ],
   "source": [
    "compileString(\"\"\"\n",
    "program p;\n",
    "  type a = ^boolean;\n",
    "  var x : a;\n",
    "  begin\n",
    "      new(x)\n",
    "  end\n",
    "\"\"\", dstfn = \"test.wat\")"
   ]
  },
  {
   "cell_type": "code",
   "execution_count": 45,
   "metadata": {},
   "outputs": [],
   "source": [
    "!wat2wasm test.wat"
   ]
  },
  {
   "cell_type": "code",
   "execution_count": 46,
   "metadata": {},
   "outputs": [],
   "source": [
    "runpywasm(\"test.wasm\")"
   ]
  },
  {
   "cell_type": "code",
   "execution_count": 47,
   "metadata": {},
   "outputs": [
    {
     "name": "stdout",
     "output_type": "stream",
     "text": [
      "adr is 4, size is 4, is_alloc: True, nxt: \n",
      "None\n"
     ]
    }
   ],
   "source": [
    "genShowHeap()"
   ]
  },
  {
   "cell_type": "markdown",
   "metadata": {},
   "source": [
    "`Reallocate` an object that is already allocated on the heap"
   ]
  },
  {
   "cell_type": "code",
   "execution_count": 48,
   "metadata": {},
   "outputs": [
    {
     "name": "stdout",
     "output_type": "stream",
     "text": [
      "(module\n",
      "(import \"P0lib\" \"write\" (func $write (param i32)))\n",
      "(import \"P0lib\" \"writeln\" (func $writeln))\n",
      "(import \"P0lib\" \"read\" (func $read (result i32)))\n",
      "(func $program\n",
      "i32.const 0\n",
      "i32.const 4\n",
      "i32.store\n",
      "i32.const 0\n",
      "i32.load\n",
      "i32.const 10\n",
      "i32.store\n",
      "i32.const 4\n",
      "i32.const 0\n",
      "i32.store\n",
      "i32.const 0\n",
      "i32.const 4\n",
      "i32.store\n",
      "i32.const 0\n",
      "i32.load\n",
      "i32.const 11\n",
      "i32.store\n",
      ")\n",
      "(memory 1)\n",
      "(start $program)\n",
      ")\n"
     ]
    }
   ],
   "source": [
    "compileString(\"\"\"\n",
    "program p;\n",
    "  type a = ^integer;\n",
    "  var x : a;\n",
    "  begin\n",
    "      new(x);\n",
    "      x^ := 10;\n",
    "      new(x); {cover the preview one, value is resetted}\n",
    "      x^ := 11\n",
    "  end\n",
    "\"\"\", dstfn = \"test.wat\")"
   ]
  },
  {
   "cell_type": "code",
   "execution_count": 49,
   "metadata": {},
   "outputs": [],
   "source": [
    "!wat2wasm test.wat"
   ]
  },
  {
   "cell_type": "code",
   "execution_count": 50,
   "metadata": {},
   "outputs": [],
   "source": [
    "runpywasm(\"test.wasm\")"
   ]
  },
  {
   "cell_type": "code",
   "execution_count": 51,
   "metadata": {},
   "outputs": [
    {
     "name": "stdout",
     "output_type": "stream",
     "text": [
      "adr is 4, size is 4, is_alloc: True, nxt: \n",
      "None\n"
     ]
    }
   ],
   "source": [
    "genShowHeap()"
   ]
  },
  {
   "cell_type": "markdown",
   "metadata": {},
   "source": [
    "Allocating `Record` object on the heap."
   ]
  },
  {
   "cell_type": "code",
   "execution_count": 52,
   "metadata": {},
   "outputs": [
    {
     "name": "stdout",
     "output_type": "stream",
     "text": [
      "(module\n",
      "(import \"P0lib\" \"write\" (func $write (param i32)))\n",
      "(import \"P0lib\" \"writeln\" (func $writeln))\n",
      "(import \"P0lib\" \"read\" (func $read (result i32)))\n",
      "(func $program\n",
      "i32.const 0\n",
      "i32.const 4\n",
      "i32.store\n",
      ")\n",
      "(memory 1)\n",
      "(start $program)\n",
      ")\n"
     ]
    }
   ],
   "source": [
    "compileString(\"\"\"\n",
    "program p;\n",
    "  type a = ^record f1 : integer; f2 : array [1..4] of integer end;\n",
    "  var x : a;\n",
    "  begin\n",
    "      new(x)\n",
    "  end\n",
    "\"\"\", dstfn = \"test.wat\")"
   ]
  },
  {
   "cell_type": "code",
   "execution_count": 53,
   "metadata": {},
   "outputs": [],
   "source": [
    "!wat2wasm test.wat"
   ]
  },
  {
   "cell_type": "code",
   "execution_count": 54,
   "metadata": {},
   "outputs": [],
   "source": [
    "runpywasm(\"test.wasm\")"
   ]
  },
  {
   "cell_type": "code",
   "execution_count": 55,
   "metadata": {},
   "outputs": [
    {
     "name": "stdout",
     "output_type": "stream",
     "text": [
      "adr is 4, size is 20, is_alloc: True, nxt: \n",
      "None\n"
     ]
    }
   ],
   "source": [
    "genShowHeap()"
   ]
  },
  {
   "cell_type": "markdown",
   "metadata": {},
   "source": [
    "More complex case: Allocating `Array` object on the heap."
   ]
  },
  {
   "cell_type": "code",
   "execution_count": 56,
   "metadata": {},
   "outputs": [
    {
     "name": "stdout",
     "output_type": "stream",
     "text": [
      "(module\n",
      "(import \"P0lib\" \"write\" (func $write (param i32)))\n",
      "(import \"P0lib\" \"writeln\" (func $writeln))\n",
      "(import \"P0lib\" \"read\" (func $read (result i32)))\n",
      "(func $program\n",
      "i32.const 0\n",
      "i32.const 4\n",
      "i32.store\n",
      ")\n",
      "(memory 1)\n",
      "(start $program)\n",
      ")\n"
     ]
    }
   ],
   "source": [
    "compileString(\"\"\"\n",
    "program p;\n",
    "  type a = ^array [1..2] of record f1 : integer; f2 : array [1..2] of boolean end;\n",
    "  var x : a;\n",
    "  begin\n",
    "      new(x)\n",
    "  end\n",
    "\"\"\", dstfn = \"test.wat\")"
   ]
  },
  {
   "cell_type": "code",
   "execution_count": 57,
   "metadata": {},
   "outputs": [],
   "source": [
    "!wat2wasm test.wat"
   ]
  },
  {
   "cell_type": "code",
   "execution_count": 58,
   "metadata": {},
   "outputs": [],
   "source": [
    "runpywasm(\"test.wasm\")"
   ]
  },
  {
   "cell_type": "code",
   "execution_count": 59,
   "metadata": {},
   "outputs": [
    {
     "name": "stdout",
     "output_type": "stream",
     "text": [
      "adr is 4, size is 24, is_alloc: True, nxt: \n",
      "None\n"
     ]
    }
   ],
   "source": [
    "genShowHeap()"
   ]
  },
  {
   "cell_type": "markdown",
   "metadata": {},
   "source": [
    "More complex case: Allocating an object pointed by a pointer which is an element of an Array."
   ]
  },
  {
   "cell_type": "code",
   "execution_count": 60,
   "metadata": {},
   "outputs": [
    {
     "name": "stdout",
     "output_type": "stream",
     "text": [
      "(module\n",
      "(import \"P0lib\" \"write\" (func $write (param i32)))\n",
      "(import \"P0lib\" \"writeln\" (func $writeln))\n",
      "(import \"P0lib\" \"read\" (func $read (result i32)))\n",
      "(func $program\n",
      "i32.const 0\n",
      "i32.const 16\n",
      "i32.store\n",
      ")\n",
      "(memory 1)\n",
      "(start $program)\n",
      ")\n"
     ]
    }
   ],
   "source": [
    "compileString(\"\"\"\n",
    "program p;\n",
    "  type a = array [1..4] of ^record f : integer end;\n",
    "  var x : a;\n",
    "  begin\n",
    "      new(x[1])\n",
    "  end\n",
    "\"\"\", dstfn = \"test.wat\")"
   ]
  },
  {
   "cell_type": "code",
   "execution_count": 61,
   "metadata": {},
   "outputs": [],
   "source": [
    "!wat2wasm test.wat"
   ]
  },
  {
   "cell_type": "code",
   "execution_count": 62,
   "metadata": {},
   "outputs": [],
   "source": [
    "runpywasm(\"test.wasm\")"
   ]
  },
  {
   "cell_type": "code",
   "execution_count": 63,
   "metadata": {},
   "outputs": [
    {
     "name": "stdout",
     "output_type": "stream",
     "text": [
      "adr is 16, size is 4, is_alloc: True, nxt: \n",
      "None\n"
     ]
    }
   ],
   "source": [
    "genShowHeap()"
   ]
  },
  {
   "cell_type": "markdown",
   "metadata": {},
   "source": [
    "More complex case: Allocating an object pointed by a pointer which is an filed of a Record."
   ]
  },
  {
   "cell_type": "code",
   "execution_count": 64,
   "metadata": {},
   "outputs": [
    {
     "name": "stdout",
     "output_type": "stream",
     "text": [
      "(module\n",
      "(import \"P0lib\" \"write\" (func $write (param i32)))\n",
      "(import \"P0lib\" \"writeln\" (func $writeln))\n",
      "(import \"P0lib\" \"read\" (func $read (result i32)))\n",
      "(func $program\n",
      "i32.const 0\n",
      "i32.const 8\n",
      "i32.store\n",
      ")\n",
      "(memory 1)\n",
      "(start $program)\n",
      ")\n"
     ]
    }
   ],
   "source": [
    "compileString(\"\"\"\n",
    "program p;\n",
    "  type a = record f : ^array [1..3] of integer; f1 : boolean end;\n",
    "  var x : a;\n",
    "  begin\n",
    "      new(x.f)\n",
    "  end\n",
    "\"\"\", dstfn = \"test.wat\")"
   ]
  },
  {
   "cell_type": "code",
   "execution_count": 65,
   "metadata": {},
   "outputs": [],
   "source": [
    "!wat2wasm test.wat"
   ]
  },
  {
   "cell_type": "code",
   "execution_count": 66,
   "metadata": {},
   "outputs": [],
   "source": [
    "runpywasm(\"test.wasm\")"
   ]
  },
  {
   "cell_type": "code",
   "execution_count": 67,
   "metadata": {},
   "outputs": [
    {
     "name": "stdout",
     "output_type": "stream",
     "text": [
      "adr is 8, size is 12, is_alloc: True, nxt: \n",
      "None\n"
     ]
    }
   ],
   "source": [
    "genShowHeap()"
   ]
  },
  {
   "cell_type": "markdown",
   "metadata": {},
   "source": [
    "`Allocating many different objects on the heap`"
   ]
  },
  {
   "cell_type": "code",
   "execution_count": 68,
   "metadata": {},
   "outputs": [
    {
     "name": "stdout",
     "output_type": "stream",
     "text": [
      "(module\n",
      "(import \"P0lib\" \"write\" (func $write (param i32)))\n",
      "(import \"P0lib\" \"writeln\" (func $writeln))\n",
      "(import \"P0lib\" \"read\" (func $read (result i32)))\n",
      "(func $program\n",
      "i32.const 0\n",
      "i32.const 12\n",
      "i32.store\n",
      "i32.const 4\n",
      "i32.const 16\n",
      "i32.store\n",
      "i32.const 8\n",
      "i32.const 36\n",
      "i32.store\n",
      ")\n",
      "(memory 1)\n",
      "(start $program)\n",
      ")\n"
     ]
    }
   ],
   "source": [
    "compileString(\"\"\"\n",
    "program p;\n",
    "  type a = ^integer;\n",
    "  type b = ^array [1..5] of integer;\n",
    "  type c = ^record t : integer end;\n",
    "  var x : a;\n",
    "  var y : b;\n",
    "  var z : c;\n",
    "  begin\n",
    "      new(x);\n",
    "      new(y);\n",
    "      new(z)\n",
    "  end\n",
    "\"\"\", dstfn = \"test.wat\")"
   ]
  },
  {
   "cell_type": "code",
   "execution_count": 69,
   "metadata": {},
   "outputs": [],
   "source": [
    "!wat2wasm test.wat"
   ]
  },
  {
   "cell_type": "code",
   "execution_count": 70,
   "metadata": {},
   "outputs": [],
   "source": [
    "runpywasm(\"test.wasm\")"
   ]
  },
  {
   "cell_type": "code",
   "execution_count": 71,
   "metadata": {},
   "outputs": [
    {
     "name": "stdout",
     "output_type": "stream",
     "text": [
      "adr is 12, size is 4, is_alloc: True, nxt: \n",
      "adr is 16, size is 20, is_alloc: True, nxt: \n",
      "adr is 36, size is 4, is_alloc: True, nxt: \n",
      "None\n"
     ]
    }
   ],
   "source": [
    "genShowHeap()"
   ]
  },
  {
   "cell_type": "markdown",
   "metadata": {},
   "source": [
    "### Explicit deallocation\n",
    "\n",
    "`Deallocating heap-allocated object`. `y` is deallocated, so on the heap, at adr 5, the flag `is_alloc` is `False` and the `value` become `None`"
   ]
  },
  {
   "cell_type": "code",
   "execution_count": 72,
   "metadata": {},
   "outputs": [
    {
     "name": "stdout",
     "output_type": "stream",
     "text": [
      "(module\n",
      "(import \"P0lib\" \"write\" (func $write (param i32)))\n",
      "(import \"P0lib\" \"writeln\" (func $writeln))\n",
      "(import \"P0lib\" \"read\" (func $read (result i32)))\n",
      "(func $program\n",
      "i32.const 0\n",
      "i32.const 12\n",
      "i32.store\n",
      "i32.const 4\n",
      "i32.const 16\n",
      "i32.store\n",
      "i32.const 8\n",
      "i32.const 36\n",
      "i32.store\n",
      "i32.const 16\n",
      "i32.const 0\n",
      "i32.store\n",
      "i32.const 20\n",
      "i32.const 0\n",
      "i32.store\n",
      "i32.const 24\n",
      "i32.const 0\n",
      "i32.store\n",
      "i32.const 28\n",
      "i32.const 0\n",
      "i32.store\n",
      "i32.const 32\n",
      "i32.const 0\n",
      "i32.store\n",
      "i32.const 4\n",
      "i32.const 20000\n",
      "i32.store\n",
      ")\n",
      "(memory 1)\n",
      "(start $program)\n",
      ")\n"
     ]
    }
   ],
   "source": [
    "compileString(\"\"\"\n",
    "program p;\n",
    "  type a = ^integer;\n",
    "  type b = ^array [1..5] of integer;\n",
    "  type c = ^record t : boolean end;\n",
    "  var x : a;\n",
    "  var y : b;\n",
    "  var z : c;\n",
    "  begin\n",
    "      new(x);\n",
    "      new(y);\n",
    "      new(z);\n",
    "      dispose(y)\n",
    "  end\n",
    "\"\"\", dstfn = \"test.wat\")"
   ]
  },
  {
   "cell_type": "code",
   "execution_count": 73,
   "metadata": {},
   "outputs": [],
   "source": [
    "!wat2wasm test.wat"
   ]
  },
  {
   "cell_type": "code",
   "execution_count": 74,
   "metadata": {},
   "outputs": [],
   "source": [
    "runpywasm(\"test.wasm\")"
   ]
  },
  {
   "cell_type": "code",
   "execution_count": 75,
   "metadata": {},
   "outputs": [
    {
     "name": "stdout",
     "output_type": "stream",
     "text": [
      "adr is 12, size is 4, is_alloc: True, nxt: \n",
      "adr is 16, size is 20, is_alloc: False, nxt: \n",
      "adr is 36, size is 4, is_alloc: True, nxt: \n",
      "None\n"
     ]
    }
   ],
   "source": [
    "genShowHeap()"
   ]
  },
  {
   "cell_type": "markdown",
   "metadata": {},
   "source": [
    "Deallocate an object that is not on the heap. In this example, it says that `error: line 15 pos 5 error: not an object allocated on the heap!`"
   ]
  },
  {
   "cell_type": "code",
   "execution_count": 76,
   "metadata": {},
   "outputs": [
    {
     "name": "stdout",
     "output_type": "stream",
     "text": [
      "error: not allocated.\n",
      "error: line 15 pos 5 error: not an object allocated on the heap!\n"
     ]
    }
   ],
   "source": [
    "compileString(\"\"\"\n",
    "program p;\n",
    "  type a = ^integer;\n",
    "  type b = ^array [1..5] of integer;\n",
    "  type c = ^record t : boolean end;\n",
    "  var x : a;\n",
    "  var y : b;\n",
    "  var z : c;\n",
    "  begin\n",
    "      new(x);\n",
    "      new(y);\n",
    "      new(z);\n",
    "      dispose(y);\n",
    "      dispose(y)\n",
    "  end\n",
    "\"\"\", dstfn = \"test.wat\")"
   ]
  },
  {
   "cell_type": "markdown",
   "metadata": {},
   "source": [
    "`Testing `first fit` algorithm for allocating object on the heap`.\n",
    "\n",
    "`dispose(y)` free the block of size 20 at adr 5, then `new(n)`, knows that size of n is 4, allocate n at adr 5 and separate the origin block into two blocks. The empty block has the size of 16. The `new(m)` will find an available block with size of 20 or more, obviously, m can not be fitted in the block with size 16 and m is allocated at the end of the heap."
   ]
  },
  {
   "cell_type": "code",
   "execution_count": 77,
   "metadata": {},
   "outputs": [
    {
     "name": "stdout",
     "output_type": "stream",
     "text": [
      "(module\n",
      "(import \"P0lib\" \"write\" (func $write (param i32)))\n",
      "(import \"P0lib\" \"writeln\" (func $writeln))\n",
      "(import \"P0lib\" \"read\" (func $read (result i32)))\n",
      "(func $program\n",
      "i32.const 0\n",
      "i32.const 20\n",
      "i32.store\n",
      "i32.const 4\n",
      "i32.const 24\n",
      "i32.store\n",
      "i32.const 8\n",
      "i32.const 44\n",
      "i32.store\n",
      "i32.const 24\n",
      "i32.const 0\n",
      "i32.store\n",
      "i32.const 28\n",
      "i32.const 0\n",
      "i32.store\n",
      "i32.const 32\n",
      "i32.const 0\n",
      "i32.store\n",
      "i32.const 36\n",
      "i32.const 0\n",
      "i32.store\n",
      "i32.const 40\n",
      "i32.const 0\n",
      "i32.store\n",
      "i32.const 4\n",
      "i32.const 20000\n",
      "i32.store\n",
      "i32.const 12\n",
      "i32.const 24\n",
      "i32.store\n",
      "i32.const 16\n",
      "i32.const 48\n",
      "i32.store\n",
      ")\n",
      "(memory 1)\n",
      "(start $program)\n",
      ")\n"
     ]
    }
   ],
   "source": [
    "compileString(\"\"\"\n",
    "program p;\n",
    "  type a = ^integer;\n",
    "  type b = ^array [1..5] of integer;\n",
    "  type c = ^record t : integer end; \n",
    "  var x : a;\n",
    "  var y : b;\n",
    "  var z : c;\n",
    "  var n : c;\n",
    "  var m : b;\n",
    "  begin\n",
    "      new(x);\n",
    "      new(y);\n",
    "      new(z);\n",
    "      dispose(y);\n",
    "      new(n);\n",
    "      new(m)\n",
    "      \n",
    "  end\n",
    "\"\"\", dstfn = \"test.wat\")"
   ]
  },
  {
   "cell_type": "code",
   "execution_count": 78,
   "metadata": {},
   "outputs": [],
   "source": [
    "!wat2wasm test.wat"
   ]
  },
  {
   "cell_type": "code",
   "execution_count": 79,
   "metadata": {},
   "outputs": [],
   "source": [
    "runpywasm(\"test.wasm\")"
   ]
  },
  {
   "cell_type": "code",
   "execution_count": 80,
   "metadata": {},
   "outputs": [
    {
     "name": "stdout",
     "output_type": "stream",
     "text": [
      "adr is 20, size is 4, is_alloc: True, nxt: \n",
      "adr is 24, size is 4, is_alloc: True, nxt: \n",
      "adr is 28, size is 16, is_alloc: False, nxt: \n",
      "adr is 44, size is 4, is_alloc: True, nxt: \n",
      "adr is 48, size is 20, is_alloc: True, nxt: \n",
      "None\n"
     ]
    }
   ],
   "source": [
    "genShowHeap()"
   ]
  },
  {
   "cell_type": "markdown",
   "metadata": {},
   "source": [
    "`set value to the heap-allocated object correctly and retrieve value from the heap-allocated object`"
   ]
  },
  {
   "cell_type": "code",
   "execution_count": 81,
   "metadata": {},
   "outputs": [
    {
     "name": "stdout",
     "output_type": "stream",
     "text": [
      "(module\n",
      "(import \"P0lib\" \"write\" (func $write (param i32)))\n",
      "(import \"P0lib\" \"writeln\" (func $writeln))\n",
      "(import \"P0lib\" \"read\" (func $read (result i32)))\n",
      "(global $n (mut i32) i32.const 0)\n",
      "(func $program\n",
      "i32.const 0\n",
      "i32.const 8\n",
      "i32.store\n",
      "i32.const 10\n",
      "global.set $n\n",
      "i32.const 0\n",
      "i32.load\n",
      "global.get $n\n",
      "i32.store\n",
      "i32.const 0\n",
      "i32.load\n",
      "i32.load\n",
      "call $write\n",
      "i32.const 4\n",
      "i32.const 12\n",
      "i32.store\n",
      "i32.const 4\n",
      "i32.load\n",
      "i32.const 60\n",
      "i32.add\n",
      "i32.const 15\n",
      "i32.store\n",
      "i32.const 4\n",
      "i32.load\n",
      "i32.const 20\n",
      "i32.add\n",
      "i32.const 20\n",
      "i32.store\n",
      "i32.const 4\n",
      "i32.load\n",
      "i32.const 60\n",
      "i32.add\n",
      "i32.load\n",
      "global.set $n\n",
      "global.get $n\n",
      "call $write\n",
      ")\n",
      "(memory 1)\n",
      "(start $program)\n",
      ")\n"
     ]
    }
   ],
   "source": [
    "compileString(\"\"\"\n",
    "program p;\n",
    "  type a = ^integer;\n",
    "  type b = ^array [1..5] of integer;\n",
    "  type i = integer;\n",
    "  var x : a;\n",
    "  var y : b;\n",
    "  var n : i;\n",
    "  begin\n",
    "      new(x);\n",
    "      n := 10;\n",
    "      x^ := n;\n",
    "      write(x^); {should print out 10}\n",
    "      new(y);\n",
    "      y[4]^ := 15;\n",
    "      y[2]^ := 20;\n",
    "      n := y[4]^;\n",
    "      write(n) {should print out 15}\n",
    "  end\n",
    "\"\"\", dstfn = \"test.wat\")"
   ]
  },
  {
   "cell_type": "code",
   "execution_count": 82,
   "metadata": {},
   "outputs": [],
   "source": [
    "!wat2wasm test.wat"
   ]
  },
  {
   "cell_type": "code",
   "execution_count": 83,
   "metadata": {},
   "outputs": [
    {
     "name": "stdout",
     "output_type": "stream",
     "text": [
      "10\n",
      "15\n"
     ]
    }
   ],
   "source": [
    "runpywasm(\"test.wasm\")"
   ]
  },
  {
   "cell_type": "code",
   "execution_count": 84,
   "metadata": {},
   "outputs": [
    {
     "name": "stdout",
     "output_type": "stream",
     "text": [
      "adr is 8, size is 4, is_alloc: True, nxt: \n",
      "adr is 12, size is 20, is_alloc: True, nxt: \n",
      "None\n"
     ]
    }
   ],
   "source": [
    "genShowHeap()"
   ]
  },
  {
   "cell_type": "markdown",
   "metadata": {},
   "source": [
    "`More cases`"
   ]
  },
  {
   "cell_type": "code",
   "execution_count": 85,
   "metadata": {},
   "outputs": [
    {
     "name": "stdout",
     "output_type": "stream",
     "text": [
      "(module\n",
      "(import \"P0lib\" \"write\" (func $write (param i32)))\n",
      "(import \"P0lib\" \"writeln\" (func $writeln))\n",
      "(import \"P0lib\" \"read\" (func $read (result i32)))\n",
      "(func $program\n",
      "i32.const 0\n",
      "i32.const 8\n",
      "i32.store\n",
      "i32.const 4\n",
      "i32.const 12\n",
      "i32.store\n",
      "i32.const 4\n",
      "i32.load\n",
      "i32.const 16\n",
      "i32.add\n",
      "i32.const 1\n",
      "i32.store\n",
      "i32.const 0\n",
      "i32.load\n",
      "i32.const 0\n",
      "i32.store\n",
      "i32.const 4\n",
      "i32.load\n",
      "i32.const 32\n",
      "i32.add\n",
      "i32.const 0\n",
      "i32.load\n",
      "i32.load\n",
      "i32.store\n",
      "i32.const 4\n",
      "i32.load\n",
      "i32.const 16\n",
      "i32.add\n",
      "i32.load\n",
      "call $write\n",
      "i32.const 4\n",
      "i32.load\n",
      "i32.const 32\n",
      "i32.add\n",
      "i32.load\n",
      "call $write\n",
      "i32.const 8\n",
      "i32.const 0\n",
      "i32.store\n",
      "i32.const 0\n",
      "i32.const 20000\n",
      "i32.store\n",
      ")\n",
      "(memory 1)\n",
      "(start $program)\n",
      ")\n"
     ]
    }
   ],
   "source": [
    "compileString(\"\"\"\n",
    "program p;\n",
    "    type a = ^record f : boolean end;\n",
    "    type b = ^array [1..4] of boolean;\n",
    "    var x : a;\n",
    "    var z : b;\n",
    "  begin\n",
    "    new(x);\n",
    "    new(z);\n",
    "    z[2]^ := true;\n",
    "    x.f^ := false;\n",
    "    z[3]^ := x.f^;\n",
    "    write(z[2]^); {print 1, means true}\n",
    "    write(z[3]^); {print 0, means false}\n",
    "    dispose(x)\n",
    "  end\n",
    "\"\"\", dstfn = \"test.wat\")"
   ]
  },
  {
   "cell_type": "code",
   "execution_count": 86,
   "metadata": {},
   "outputs": [],
   "source": [
    "!wat2wasm test.wat"
   ]
  },
  {
   "cell_type": "code",
   "execution_count": 87,
   "metadata": {},
   "outputs": [
    {
     "name": "stdout",
     "output_type": "stream",
     "text": [
      "1\n",
      "0\n"
     ]
    }
   ],
   "source": [
    "runpywasm(\"test.wasm\")"
   ]
  },
  {
   "cell_type": "code",
   "execution_count": 88,
   "metadata": {},
   "outputs": [
    {
     "name": "stdout",
     "output_type": "stream",
     "text": [
      "adr is 8, size is 4, is_alloc: False, nxt: \n",
      "adr is 12, size is 16, is_alloc: True, nxt: \n",
      "None\n"
     ]
    }
   ],
   "source": [
    "genShowHeap()"
   ]
  },
  {
   "cell_type": "markdown",
   "metadata": {},
   "source": [
    "`More about `assignment statement` for heap-allocated object with more complex type`"
   ]
  },
  {
   "cell_type": "code",
   "execution_count": 89,
   "metadata": {},
   "outputs": [
    {
     "name": "stdout",
     "output_type": "stream",
     "text": [
      "(module\n",
      "(import \"P0lib\" \"write\" (func $write (param i32)))\n",
      "(import \"P0lib\" \"writeln\" (func $writeln))\n",
      "(import \"P0lib\" \"read\" (func $read (result i32)))\n",
      "(global $n (mut i32) i32.const 0)\n",
      "(func $program\n",
      "i32.const 10\n",
      "global.set $n\n",
      "i32.const 12\n",
      "i32.const 96\n",
      "i32.store\n",
      "i32.const 12\n",
      "i32.load\n",
      "global.get $n\n",
      "i32.store\n",
      "i32.const 12\n",
      "i32.load\n",
      "i32.load\n",
      "call $write\n",
      "i32.const 52\n",
      "i32.const 100\n",
      "i32.store\n",
      "i32.const 52\n",
      "i32.load\n",
      "i32.const 5\n",
      "i32.store\n",
      "i32.const 52\n",
      "i32.load\n",
      "i32.load\n",
      "call $write\n",
      "i32.const 12\n",
      "i32.load\n",
      "i32.const 52\n",
      "i32.load\n",
      "i32.load\n",
      "i32.store\n",
      "i32.const 12\n",
      "i32.load\n",
      "i32.load\n",
      "call $write\n",
      "i32.const 76\n",
      "i32.const 104\n",
      "i32.store\n",
      "i32.const 80\n",
      "i32.const 116\n",
      "i32.store\n",
      "i32.const 76\n",
      "i32.load\n",
      "i32.const 10\n",
      "i32.store\n",
      "i32.const 80\n",
      "i32.const 76\n",
      "i32.load\n",
      "i32.store\n",
      "i32.const 80\n",
      "i32.load\n",
      "i32.load\n",
      "call $write\n",
      ")\n",
      "(memory 1)\n",
      "(start $program)\n",
      ")\n"
     ]
    }
   ],
   "source": [
    "compileString(\"\"\"\n",
    "program p;\n",
    "  type a = array [1..4] of array [1..3] of ^integer;\n",
    "  type b = array [1..5] of ^record f : integer end;\n",
    "  type c = record f : ^array [1..3] of integer; t : integer end;\n",
    "  type d = array [1..5] of record f : ^array [1..3] of integer end;\n",
    "  type i = integer;\n",
    "  var x : a;\n",
    "  var y : b;\n",
    "  var z : c;\n",
    "  var n : i;\n",
    "  var m : d;\n",
    "  begin\n",
    "      n := 10;\n",
    "      new(x[2][1]);\n",
    "      x[2][1]^ := n;\n",
    "      write(x[2][1]^); {print 10}\n",
    "      new(y[2]);\n",
    "      y[2].f^ := 5;\n",
    "      write(y[2].f^); {print 5}\n",
    "      x[2][1]^ := y[2].f^; {print 5}\n",
    "      write(x[2][1]^);\n",
    "      new(m[1].f);\n",
    "      new(m[2].f);\n",
    "      m[1].f[1]^ := 10;\n",
    "      m[2].f := m[1].f;\n",
    "      write(m[2].f[1]^) {print 10}\n",
    "  end\n",
    "\"\"\", dstfn = \"test.wat\")"
   ]
  },
  {
   "cell_type": "code",
   "execution_count": 90,
   "metadata": {},
   "outputs": [],
   "source": [
    "!wat2wasm test.wat"
   ]
  },
  {
   "cell_type": "code",
   "execution_count": 91,
   "metadata": {},
   "outputs": [
    {
     "name": "stdout",
     "output_type": "stream",
     "text": [
      "10\n",
      "5\n",
      "5\n",
      "10\n"
     ]
    }
   ],
   "source": [
    "runpywasm(\"test.wasm\")"
   ]
  },
  {
   "cell_type": "code",
   "execution_count": 92,
   "metadata": {},
   "outputs": [
    {
     "name": "stdout",
     "output_type": "stream",
     "text": [
      "adr is 96, size is 4, is_alloc: True, nxt: \n",
      "adr is 100, size is 4, is_alloc: True, nxt: \n",
      "adr is 104, size is 12, is_alloc: True, nxt: \n",
      "adr is 116, size is 12, is_alloc: True, nxt: \n",
      "None\n"
     ]
    }
   ],
   "source": [
    "genShowHeap()"
   ]
  },
  {
   "cell_type": "markdown",
   "metadata": {},
   "source": [
    "`Unary not`"
   ]
  },
  {
   "cell_type": "code",
   "execution_count": 93,
   "metadata": {},
   "outputs": [
    {
     "name": "stdout",
     "output_type": "stream",
     "text": [
      "(module\n",
      "(import \"P0lib\" \"write\" (func $write (param i32)))\n",
      "(import \"P0lib\" \"writeln\" (func $writeln))\n",
      "(import \"P0lib\" \"read\" (func $read (result i32)))\n",
      "(global $y (mut i32) i32.const 0)\n",
      "(func $program\n",
      "i32.const 0\n",
      "i32.const 4\n",
      "i32.store\n",
      "i32.const 0\n",
      "i32.load\n",
      "i32.const 0\n",
      "i32.store\n",
      "i32.const 0\n",
      "i32.load\n",
      "i32.load\n",
      "i32.eqz\n",
      "global.set $y\n",
      "global.get $y\n",
      "call $write\n",
      ")\n",
      "(memory 1)\n",
      "(start $program)\n",
      ")\n"
     ]
    }
   ],
   "source": [
    "compileString(\"\"\"\n",
    "program p;\n",
    "  type a = ^array [1..5] of boolean;\n",
    "  type b = boolean;\n",
    "  var x : a;\n",
    "  var y : b;\n",
    "  begin\n",
    "      new(x);\n",
    "      x[1]^ := false;\n",
    "      y := not x[1]^;\n",
    "      write(y)\n",
    "  end\n",
    "\"\"\", dstfn = \"test.wat\")"
   ]
  },
  {
   "cell_type": "code",
   "execution_count": 94,
   "metadata": {},
   "outputs": [],
   "source": [
    "!wat2wasm test.wat"
   ]
  },
  {
   "cell_type": "code",
   "execution_count": 95,
   "metadata": {},
   "outputs": [
    {
     "name": "stdout",
     "output_type": "stream",
     "text": [
      "1\n"
     ]
    }
   ],
   "source": [
    "runpywasm(\"test.wasm\")"
   ]
  },
  {
   "cell_type": "code",
   "execution_count": 96,
   "metadata": {},
   "outputs": [
    {
     "name": "stdout",
     "output_type": "stream",
     "text": [
      "adr is 4, size is 20, is_alloc: True, nxt: \n",
      "None\n"
     ]
    }
   ],
   "source": [
    "genShowHeap()"
   ]
  },
  {
   "cell_type": "markdown",
   "metadata": {},
   "source": [
    "Binary Operator `and`, `*`, `div` and `mod`"
   ]
  },
  {
   "cell_type": "code",
   "execution_count": 97,
   "metadata": {},
   "outputs": [
    {
     "name": "stdout",
     "output_type": "stream",
     "text": [
      "(module\n",
      "(import \"P0lib\" \"write\" (func $write (param i32)))\n",
      "(import \"P0lib\" \"writeln\" (func $writeln))\n",
      "(import \"P0lib\" \"read\" (func $read (result i32)))\n",
      "(global $y (mut i32) i32.const 0)\n",
      "(global $n (mut i32) i32.const 0)\n",
      "(func $program\n",
      "i32.const 0\n",
      "i32.const 8\n",
      "i32.store\n",
      "i32.const 0\n",
      "i32.load\n",
      "i32.const 0\n",
      "i32.store\n",
      "i32.const 0\n",
      "i32.load\n",
      "i32.load\n",
      "i32.eqz\n",
      "if (result i32)\n",
      "i32.const 1\n",
      "else\n",
      "i32.const 0\n",
      "end\n",
      "global.set $y\n",
      "global.get $y\n",
      "call $write\n",
      "i32.const 4\n",
      "i32.const 28\n",
      "i32.store\n",
      "i32.const 4\n",
      "i32.load\n",
      "i32.const 2\n",
      "i32.store\n",
      "i32.const 10\n",
      "i32.const 4\n",
      "i32.load\n",
      "i32.load\n",
      "i32.div_s\n",
      "global.set $n\n",
      "global.get $n\n",
      "call $write\n",
      "i32.const 4\n",
      "i32.load\n",
      "i32.load\n",
      "i32.const 4\n",
      "i32.load\n",
      "i32.load\n",
      "i32.mul\n",
      "global.set $n\n",
      "global.get $n\n",
      "call $write\n",
      "i32.const 10\n",
      "i32.const 4\n",
      "i32.load\n",
      "i32.load\n",
      "i32.rem_s\n",
      "global.set $n\n",
      "global.get $n\n",
      "call $write\n",
      ")\n",
      "(memory 1)\n",
      "(start $program)\n",
      ")\n"
     ]
    }
   ],
   "source": [
    "compileString(\"\"\"\n",
    "program p;\n",
    "  type a = ^array [1..5] of boolean;\n",
    "  type b = boolean;\n",
    "  type c = ^integer;\n",
    "  type i = integer;\n",
    "  var x : a;\n",
    "  var y : b;\n",
    "  var z : c;\n",
    "  var n : i;\n",
    "  begin\n",
    "      new(x);\n",
    "      x[1]^ := false;\n",
    "      y := not x[1]^ and true;\n",
    "      write(y); {print 1}\n",
    "      new(z);\n",
    "      z^ := 2;\n",
    "      n := 10 div z^;\n",
    "      write(n); {print 5}\n",
    "      n := z^ * z^;\n",
    "      write(n); {print 4}\n",
    "      n := 10 mod z^;\n",
    "      write(n) {print 0}\n",
    "  end\n",
    "\"\"\", dstfn = \"test.wat\")"
   ]
  },
  {
   "cell_type": "code",
   "execution_count": 98,
   "metadata": {},
   "outputs": [],
   "source": [
    "!wat2wasm test.wat"
   ]
  },
  {
   "cell_type": "code",
   "execution_count": 99,
   "metadata": {},
   "outputs": [
    {
     "name": "stdout",
     "output_type": "stream",
     "text": [
      "1\n",
      "5\n",
      "4\n",
      "0\n"
     ]
    }
   ],
   "source": [
    "runpywasm(\"test.wasm\")"
   ]
  },
  {
   "cell_type": "code",
   "execution_count": 100,
   "metadata": {},
   "outputs": [
    {
     "name": "stdout",
     "output_type": "stream",
     "text": [
      "adr is 8, size is 20, is_alloc: True, nxt: \n",
      "adr is 28, size is 4, is_alloc: True, nxt: \n",
      "None\n"
     ]
    }
   ],
   "source": [
    "genShowHeap()"
   ]
  },
  {
   "cell_type": "markdown",
   "metadata": {},
   "source": [
    "`Unary operator `+` and `-` for heap-allocated object`"
   ]
  },
  {
   "cell_type": "code",
   "execution_count": 101,
   "metadata": {},
   "outputs": [
    {
     "name": "stdout",
     "output_type": "stream",
     "text": [
      "(module\n",
      "(import \"P0lib\" \"write\" (func $write (param i32)))\n",
      "(import \"P0lib\" \"writeln\" (func $writeln))\n",
      "(import \"P0lib\" \"read\" (func $read (result i32)))\n",
      "(global $y (mut i32) i32.const 0)\n",
      "(func $program\n",
      "i32.const 0\n",
      "i32.const 4\n",
      "i32.store\n",
      "i32.const 0\n",
      "i32.load\n",
      "i32.const 5\n",
      "i32.store\n",
      "i32.const 0\n",
      "i32.load\n",
      "i32.load\n",
      "global.set $y\n",
      "global.get $y\n",
      "call $write\n",
      "i32.const 0\n",
      "i32.load\n",
      "i32.load\n",
      "i32.const -1\n",
      "i32.mul\n",
      "global.set $y\n",
      "global.get $y\n",
      "call $write\n",
      ")\n",
      "(memory 1)\n",
      "(start $program)\n",
      ")\n"
     ]
    }
   ],
   "source": [
    "compileString(\"\"\"\n",
    "program p;\n",
    "  type a = ^array [1..5] of integer;\n",
    "  type i = integer;\n",
    "  var x : a;\n",
    "  var y : i;\n",
    "  begin\n",
    "      new(x);\n",
    "      x[1]^ := 5;\n",
    "      y := +x[1]^;\n",
    "      write(y);\n",
    "      y := -x[1]^;\n",
    "      write(y)\n",
    "  end\n",
    "\"\"\", dstfn = \"test.wat\")"
   ]
  },
  {
   "cell_type": "code",
   "execution_count": 102,
   "metadata": {},
   "outputs": [],
   "source": [
    "!wat2wasm test.wat"
   ]
  },
  {
   "cell_type": "code",
   "execution_count": 103,
   "metadata": {},
   "outputs": [
    {
     "name": "stdout",
     "output_type": "stream",
     "text": [
      "5\n",
      "-5\n"
     ]
    }
   ],
   "source": [
    "runpywasm(\"test.wasm\")"
   ]
  },
  {
   "cell_type": "code",
   "execution_count": 104,
   "metadata": {},
   "outputs": [
    {
     "name": "stdout",
     "output_type": "stream",
     "text": [
      "adr is 4, size is 20, is_alloc: True, nxt: \n",
      "None\n"
     ]
    }
   ],
   "source": [
    "genShowHeap()"
   ]
  },
  {
   "cell_type": "markdown",
   "metadata": {},
   "source": [
    "`Binary operator `+`, `-` and `or` for heap-allocated object`"
   ]
  },
  {
   "cell_type": "code",
   "execution_count": 105,
   "metadata": {},
   "outputs": [
    {
     "name": "stdout",
     "output_type": "stream",
     "text": [
      "(module\n",
      "(import \"P0lib\" \"write\" (func $write (param i32)))\n",
      "(import \"P0lib\" \"writeln\" (func $writeln))\n",
      "(import \"P0lib\" \"read\" (func $read (result i32)))\n",
      "(global $y (mut i32) i32.const 0)\n",
      "(global $n (mut i32) i32.const 0)\n",
      "(func $program\n",
      "i32.const 0\n",
      "i32.const 8\n",
      "i32.store\n",
      "i32.const 0\n",
      "i32.load\n",
      "i32.const 1\n",
      "i32.store\n",
      "i32.const 0\n",
      "i32.load\n",
      "i32.load\n",
      "i32.eqz\n",
      "if (result i32)\n",
      "i32.const 1\n",
      "else\n",
      "i32.const 1\n",
      "end\n",
      "global.set $y\n",
      "global.get $y\n",
      "call $write\n",
      "i32.const 4\n",
      "i32.const 28\n",
      "i32.store\n",
      "i32.const 4\n",
      "i32.load\n",
      "i32.const 2\n",
      "i32.store\n",
      "i32.const 10\n",
      "i32.const 4\n",
      "i32.load\n",
      "i32.load\n",
      "i32.div_s\n",
      "global.set $n\n",
      "global.get $n\n",
      "call $write\n",
      "i32.const 5\n",
      "i32.const 4\n",
      "i32.load\n",
      "i32.load\n",
      "i32.add\n",
      "global.set $n\n",
      "global.get $n\n",
      "call $write\n",
      "i32.const 10\n",
      "i32.const 4\n",
      "i32.load\n",
      "i32.load\n",
      "i32.add\n",
      "global.set $n\n",
      "global.get $n\n",
      "call $write\n",
      ")\n",
      "(memory 1)\n",
      "(start $program)\n",
      ")\n"
     ]
    }
   ],
   "source": [
    "compileString(\"\"\"\n",
    "program p;\n",
    "  type a = ^array [1..5] of boolean;\n",
    "  type b = boolean;\n",
    "  type c = ^integer;\n",
    "  type i = integer;\n",
    "  var x : a;\n",
    "  var y : b;\n",
    "  var z : c;\n",
    "  var n : i;\n",
    "  begin\n",
    "      new(x);\n",
    "      x[1]^ := true;\n",
    "      y := not x[1]^ or true;\n",
    "      write(y); {print 1}\n",
    "      new(z);\n",
    "      z^ := 2;\n",
    "      n := 10 div z^;\n",
    "      write(n); {print 5}\n",
    "      n := 5 + z^;\n",
    "      write(n); {print 7}\n",
    "      n := 10 + z^;\n",
    "      write(n) {print 12}\n",
    "  end\n",
    "\"\"\", dstfn = \"test.wat\")"
   ]
  },
  {
   "cell_type": "code",
   "execution_count": 106,
   "metadata": {},
   "outputs": [],
   "source": [
    "!wat2wasm test.wat"
   ]
  },
  {
   "cell_type": "code",
   "execution_count": 107,
   "metadata": {},
   "outputs": [
    {
     "name": "stdout",
     "output_type": "stream",
     "text": [
      "1\n",
      "5\n",
      "7\n",
      "12\n"
     ]
    }
   ],
   "source": [
    "runpywasm(\"test.wasm\")"
   ]
  },
  {
   "cell_type": "code",
   "execution_count": 108,
   "metadata": {},
   "outputs": [
    {
     "name": "stdout",
     "output_type": "stream",
     "text": [
      "adr is 8, size is 20, is_alloc: True, nxt: \n",
      "adr is 28, size is 4, is_alloc: True, nxt: \n",
      "None\n"
     ]
    }
   ],
   "source": [
    "genShowHeap()"
   ]
  },
  {
   "cell_type": "markdown",
   "metadata": {},
   "source": [
    "`logical operator: =, <>, <=, >, >=` for heap-allocated object"
   ]
  },
  {
   "cell_type": "code",
   "execution_count": 109,
   "metadata": {},
   "outputs": [
    {
     "name": "stdout",
     "output_type": "stream",
     "text": [
      "(module\n",
      "(import \"P0lib\" \"write\" (func $write (param i32)))\n",
      "(import \"P0lib\" \"writeln\" (func $writeln))\n",
      "(import \"P0lib\" \"read\" (func $read (result i32)))\n",
      "(global $y (mut i32) i32.const 0)\n",
      "(func $program\n",
      "i32.const 0\n",
      "i32.const 8\n",
      "i32.store\n",
      "i32.const 4\n",
      "i32.const 28\n",
      "i32.store\n",
      "i32.const 4\n",
      "i32.load\n",
      "i32.const 10\n",
      "i32.store\n",
      "i32.const 4\n",
      "i32.load\n",
      "i32.load\n",
      "i32.const 10\n",
      "i32.eq\n",
      "global.set $y\n",
      "global.get $y\n",
      "call $write\n",
      "i32.const 4\n",
      "i32.load\n",
      "i32.load\n",
      "i32.const 4\n",
      "i32.load\n",
      "i32.load\n",
      "i32.ne\n",
      "global.set $y\n",
      "global.get $y\n",
      "call $write\n",
      "i32.const 4\n",
      "i32.load\n",
      "i32.load\n",
      "i32.const 10\n",
      "i32.ge_s\n",
      "global.set $y\n",
      "global.get $y\n",
      "call $write\n",
      "i32.const 4\n",
      "i32.load\n",
      "i32.load\n",
      "i32.const 10\n",
      "i32.le_s\n",
      "global.set $y\n",
      "global.get $y\n",
      "call $write\n",
      "i32.const 4\n",
      "i32.load\n",
      "i32.load\n",
      "i32.const 4\n",
      "i32.load\n",
      "i32.load\n",
      "i32.gt_s\n",
      "global.set $y\n",
      "global.get $y\n",
      "call $write\n",
      "i32.const 4\n",
      "i32.load\n",
      "i32.load\n",
      "i32.const 4\n",
      "i32.load\n",
      "i32.load\n",
      "i32.lt_s\n",
      "global.set $y\n",
      "global.get $y\n",
      "call $write\n",
      "i32.const 0\n",
      "i32.load\n",
      "i32.const 1\n",
      "i32.store\n",
      "i32.const 0\n",
      "i32.load\n",
      "i32.const 20\n",
      "i32.add\n",
      "i32.const 0\n",
      "i32.store\n",
      "i32.const 0\n",
      "i32.load\n",
      "i32.load\n",
      "i32.const 0\n",
      "i32.load\n",
      "i32.const 20\n",
      "i32.add\n",
      "i32.load\n",
      "i32.eq\n",
      "global.set $y\n",
      "global.get $y\n",
      "call $write\n",
      "i32.const 0\n",
      "i32.load\n",
      "i32.load\n",
      "i32.const 0\n",
      "i32.load\n",
      "i32.const 20\n",
      "i32.add\n",
      "i32.load\n",
      "i32.ne\n",
      "global.set $y\n",
      "global.get $y\n",
      "call $write\n",
      ")\n",
      "(memory 1)\n",
      "(start $program)\n",
      ")\n"
     ]
    }
   ],
   "source": [
    "compileString(\"\"\"\n",
    "program p;\n",
    "  type a = ^array [1..5] of boolean;\n",
    "  type b = boolean;\n",
    "  type c = ^integer;\n",
    "  var x : a;\n",
    "  var y : b;\n",
    "  var z : c;\n",
    "  begin\n",
    "      new(x);\n",
    "      new(z);\n",
    "      z^ := 10;\n",
    "      y := z^ = 10;\n",
    "      write(y); {print 1}\n",
    "      y := z^ <> z^;\n",
    "      write(y); {print 0}\n",
    "      y := z^ >= 10;\n",
    "      write(y); {print 1}\n",
    "      y := z^ <= 10;\n",
    "      write(y); {print 1}\n",
    "      y := z^ > z^;\n",
    "      write(y); {print 0}\n",
    "      y := z^ < z^;\n",
    "      write(y); {print 0}\n",
    "      x[1]^ := true;\n",
    "      x[2]^ := false;\n",
    "      y := x[1]^ = x[2]^;\n",
    "      write(y); {print 0}\n",
    "      y := x[1]^ <> x[2]^;\n",
    "      write(y) {print 1}\n",
    "  end\n",
    "\"\"\", dstfn = \"test.wat\")"
   ]
  },
  {
   "cell_type": "code",
   "execution_count": 110,
   "metadata": {},
   "outputs": [],
   "source": [
    "!wat2wasm test.wat"
   ]
  },
  {
   "cell_type": "code",
   "execution_count": 111,
   "metadata": {},
   "outputs": [
    {
     "name": "stdout",
     "output_type": "stream",
     "text": [
      "1\n",
      "0\n",
      "1\n",
      "1\n",
      "0\n",
      "0\n",
      "0\n",
      "1\n"
     ]
    }
   ],
   "source": [
    "runpywasm(\"test.wasm\")"
   ]
  },
  {
   "cell_type": "code",
   "execution_count": 118,
   "metadata": {},
   "outputs": [
    {
     "name": "stdout",
     "output_type": "stream",
     "text": [
      "adr is 4, size is 48, is_alloc: True, nxt: \n",
      "None\n"
     ]
    }
   ],
   "source": [
    "genShowHeap()"
   ]
  },
  {
   "cell_type": "code",
   "execution_count": null,
   "metadata": {},
   "outputs": [],
   "source": []
  }
 ],
 "metadata": {
  "kernelspec": {
   "display_name": "Python 3",
   "language": "python",
   "name": "python3"
  },
  "language_info": {
   "codemirror_mode": {
    "name": "ipython",
    "version": 3
   },
   "file_extension": ".py",
   "mimetype": "text/x-python",
   "name": "python",
   "nbconvert_exporter": "python",
   "pygments_lexer": "ipython3",
   "version": "3.7.4"
  }
 },
 "nbformat": 4,
 "nbformat_minor": 2
}
