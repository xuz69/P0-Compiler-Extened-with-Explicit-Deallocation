{
 "cells": [
  {
   "cell_type": "code",
   "execution_count": 1,
   "metadata": {},
   "outputs": [
    {
     "name": "stdout",
     "output_type": "stream",
     "text": [
      "Importing Jupyter notebook from ST.ipynb\n",
      "Importing Jupyter notebook from SC.ipynb\n",
      "Importing Jupyter notebook from P0.ipynb\n",
      "Importing Jupyter notebook from HM.ipynb\n",
      "Importing Jupyter notebook from CGwat.ipynb\n"
     ]
    }
   ],
   "source": [
    "import nbimporter; nbimporter.options[\"only_defs\"] = False\n",
    "from ST import *\n",
    "from SC import *\n",
    "from P0 import compileString\n",
    "from HM import LinkedList, Node\n",
    "from CGwat import genShowHeap"
   ]
  },
  {
   "cell_type": "code",
   "execution_count": 2,
   "metadata": {},
   "outputs": [],
   "source": [
    "def runpywasm(wasmfile):\n",
    "    import pywasm\n",
    "    def write(i): print(i)\n",
    "    def writeln(): print('\\n')\n",
    "    def read(): return int(input())\n",
    "    \n",
    "\n",
    "    vm = pywasm.load(wasmfile, {'P0lib': {'write': write, 'writeln': writeln, 'read': read}})"
   ]
  },
  {
   "cell_type": "markdown",
   "metadata": {},
   "source": [
    "`Demo 1: first fit`"
   ]
  },
  {
   "cell_type": "code",
   "execution_count": 3,
   "metadata": {},
   "outputs": [
    {
     "name": "stdout",
     "output_type": "stream",
     "text": [
      "(module\n",
      "(import \"P0lib\" \"write\" (func $write (param i32)))\n",
      "(import \"P0lib\" \"writeln\" (func $writeln))\n",
      "(import \"P0lib\" \"read\" (func $read (result i32)))\n",
      "(global $i (mut i32) i32.const 0)\n",
      "(func $program\n",
      "i32.const 2\n",
      "global.set $i\n",
      "loop\n",
      "global.get $i\n",
      "i32.const 0\n",
      "i32.gt_s\n",
      "if\n",
      "i32.const 0\n",
      "i32.const 20\n",
      "i32.store\n",
      "br 1\n",
      "end\n",
      "end\n",
      "global.get $i\n",
      "i32.const 1\n",
      "i32.sub\n",
      "global.set $i\n",
      ")\n",
      "(memory 1)\n",
      "(start $program)\n",
      ")\n"
     ]
    }
   ],
   "source": [
    "compileString(\"\"\"\n",
    "program p;\n",
    "  type a = ^integer;\n",
    "  type b = ^array [1..5] of integer;\n",
    "  type c = ^record t : integer end; \n",
    "  var x : a; \n",
    "  var y : b; \n",
    "  var z : c; \n",
    "  var n : c; \n",
    "  var m : b; \n",
    "  var i : integer;\n",
    "  begin\n",
    "      i := 2;\n",
    "      while i > 0 do\n",
    "         new(x);\n",
    "         i := i - 1\n",
    "      end\n",
    "      new(x); {point to address 20}\n",
    "      new(y); {point to address 24}\n",
    "      new(z); {point to address 44}\n",
    "      dispose(y); {address 24 to 40 freed}\n",
    "      new(n); {point to address 24}\n",
    "      new(m)  {point to address 48}\n",
    "      \n",
    "  end\n",
    "\"\"\", dstfn = \"test.wat\")"
   ]
  },
  {
   "cell_type": "code",
   "execution_count": 4,
   "metadata": {},
   "outputs": [],
   "source": [
    "!wat2wasm test.wat"
   ]
  },
  {
   "cell_type": "code",
   "execution_count": null,
   "metadata": {},
   "outputs": [],
   "source": [
    "runpywasm(\"test.wasm\")"
   ]
  },
  {
   "cell_type": "code",
   "execution_count": null,
   "metadata": {},
   "outputs": [],
   "source": [
    "genShowHeap()"
   ]
  },
  {
   "cell_type": "markdown",
   "metadata": {},
   "source": [
    "`Demo 2: assign value to heap variable and retrieve value from heap variable`"
   ]
  },
  {
   "cell_type": "code",
   "execution_count": 7,
   "metadata": {},
   "outputs": [
    {
     "name": "stdout",
     "output_type": "stream",
     "text": [
      "(module\n",
      "(import \"P0lib\" \"write\" (func $write (param i32)))\n",
      "(import \"P0lib\" \"writeln\" (func $writeln))\n",
      "(import \"P0lib\" \"read\" (func $read (result i32)))\n",
      "(global $n (mut i32) i32.const 0)\n",
      "(func $program\n",
      "i32.const 0\n",
      "i32.const 8\n",
      "i32.store\n",
      "i32.const 0\n",
      "i32.load\n",
      "i32.const 10\n",
      "i32.store\n",
      "i32.const 0\n",
      "i32.load\n",
      "i32.load\n",
      "call $write\n",
      "i32.const 4\n",
      "i32.const 12\n",
      "i32.store\n",
      "i32.const 4\n",
      "i32.load\n",
      "i32.const 60\n",
      "i32.add\n",
      "i32.const 15\n",
      "i32.store\n",
      "i32.const 4\n",
      "i32.load\n",
      "i32.const 60\n",
      "i32.add\n",
      "i32.load\n",
      "global.set $n\n",
      "global.get $n\n",
      "call $write\n",
      ")\n",
      "(memory 1)\n",
      "(start $program)\n",
      ")\n"
     ]
    }
   ],
   "source": [
    "compileString(\"\"\"\n",
    "program p;\n",
    "  type a = ^integer;\n",
    "  type b = ^array [1..5] of integer;\n",
    "  type i = integer;\n",
    "  var x : a;\n",
    "  var y : b;\n",
    "  var n : i;\n",
    "  begin\n",
    "      new(x);\n",
    "      x^ := 10;\n",
    "      write(x^); {should print out 10}\n",
    "      new(y);\n",
    "      y[4]^ := 15;\n",
    "      n := y[4]^;\n",
    "      write(n) {should print out 15}\n",
    "  end\n",
    "\"\"\", dstfn = \"test.wat\")"
   ]
  },
  {
   "cell_type": "code",
   "execution_count": 8,
   "metadata": {},
   "outputs": [],
   "source": [
    "!wat2wasm test.wat"
   ]
  },
  {
   "cell_type": "code",
   "execution_count": 9,
   "metadata": {},
   "outputs": [
    {
     "name": "stdout",
     "output_type": "stream",
     "text": [
      "10\n",
      "15\n"
     ]
    }
   ],
   "source": [
    "runpywasm(\"test.wasm\")"
   ]
  },
  {
   "cell_type": "code",
   "execution_count": 10,
   "metadata": {},
   "outputs": [
    {
     "name": "stdout",
     "output_type": "stream",
     "text": [
      "adr is 8, size is 4, is_alloc: True, nxt: \n",
      "adr is 12, size is 20, is_alloc: True, nxt: \n",
      "None\n"
     ]
    }
   ],
   "source": [
    "genShowHeap()"
   ]
  },
  {
   "cell_type": "markdown",
   "metadata": {},
   "source": [
    "`Demo 3: test case for testing unary and binary operators for heap variable`"
   ]
  },
  {
   "cell_type": "code",
   "execution_count": 10,
   "metadata": {},
   "outputs": [
    {
     "name": "stdout",
     "output_type": "stream",
     "text": [
      "(module\n",
      "(import \"P0lib\" \"write\" (func $write (param i32)))\n",
      "(import \"P0lib\" \"writeln\" (func $writeln))\n",
      "(import \"P0lib\" \"read\" (func $read (result i32)))\n",
      "(global $y (mut i32) i32.const 0)\n",
      "(global $n (mut i32) i32.const 0)\n",
      "(func $program\n",
      "i32.const 0\n",
      "i32.const 8\n",
      "i32.store\n",
      "i32.const 4\n",
      "i32.const 28\n",
      "i32.store\n",
      "i32.const 0\n",
      "i32.load\n",
      "i32.const 0\n",
      "i32.store\n",
      "i32.const 0\n",
      "i32.load\n",
      "i32.load\n",
      "i32.eqz\n",
      "if (result i32)\n",
      "i32.const 1\n",
      "else\n",
      "i32.const 0\n",
      "end\n",
      "global.set $y\n",
      "global.get $y\n",
      "call $write\n",
      "i32.const 4\n",
      "i32.load\n",
      "i32.const 2\n",
      "i32.store\n",
      "i32.const 10\n",
      "i32.const 4\n",
      "i32.load\n",
      "i32.load\n",
      "i32.div_s\n",
      "global.set $n\n",
      "global.get $n\n",
      "call $write\n",
      "i32.const 4\n",
      "i32.load\n",
      "i32.load\n",
      "i32.const 4\n",
      "i32.load\n",
      "i32.load\n",
      "i32.mul\n",
      "global.set $n\n",
      "global.get $n\n",
      "call $write\n",
      "i32.const 10\n",
      "i32.const 4\n",
      "i32.load\n",
      "i32.load\n",
      "i32.rem_s\n",
      "global.set $n\n",
      "global.get $n\n",
      "call $write\n",
      ")\n",
      "(memory 1)\n",
      "(start $program)\n",
      ")\n"
     ]
    }
   ],
   "source": [
    "compileString(\"\"\"\n",
    "program p;\n",
    "  type a = ^array [1..5] of boolean;\n",
    "  type b = boolean;\n",
    "  type c = ^integer;\n",
    "  type i = integer;\n",
    "  var x : a;\n",
    "  var y : b;\n",
    "  var z : c;\n",
    "  var n : i;\n",
    "  begin\n",
    "      new(x);\n",
    "      new(z);\n",
    "      x[1]^ := false;\n",
    "      y := not x[1]^ and true;\n",
    "      write(y); {print 1}\n",
    "      z^ := 2;\n",
    "      n := 10 div z^;\n",
    "      write(n); {print 5}\n",
    "      n := z^ * z^;\n",
    "      write(n); {print 4}\n",
    "      n := 10 mod z^;\n",
    "      write(n) {print 0}\n",
    "  end\n",
    "\"\"\", dstfn = \"test.wat\")"
   ]
  },
  {
   "cell_type": "code",
   "execution_count": 11,
   "metadata": {},
   "outputs": [],
   "source": [
    "!wat2wasm test.wat"
   ]
  },
  {
   "cell_type": "code",
   "execution_count": 12,
   "metadata": {},
   "outputs": [
    {
     "name": "stdout",
     "output_type": "stream",
     "text": [
      "1\n",
      "5\n",
      "4\n",
      "0\n"
     ]
    }
   ],
   "source": [
    "runpywasm(\"test.wasm\")"
   ]
  },
  {
   "cell_type": "code",
   "execution_count": 14,
   "metadata": {},
   "outputs": [
    {
     "name": "stdout",
     "output_type": "stream",
     "text": [
      "adr is 8, size is 20, is_alloc: True, nxt: \n",
      "adr is 28, size is 4, is_alloc: True, nxt: \n",
      "None\n"
     ]
    }
   ],
   "source": [
    "genShowHeap()"
   ]
  },
  {
   "cell_type": "code",
   "execution_count": null,
   "metadata": {},
   "outputs": [],
   "source": []
  },
  {
   "cell_type": "code",
   "execution_count": null,
   "metadata": {},
   "outputs": [],
   "source": []
  }
 ],
 "metadata": {
  "kernelspec": {
   "display_name": "Python 3",
   "language": "python",
   "name": "python3"
  },
  "language_info": {
   "codemirror_mode": {
    "name": "ipython",
    "version": 3
   },
   "file_extension": ".py",
   "mimetype": "text/x-python",
   "name": "python",
   "nbconvert_exporter": "python",
   "pygments_lexer": "ipython3",
   "version": "3.7.4"
  }
 },
 "nbformat": 4,
 "nbformat_minor": 2
}
